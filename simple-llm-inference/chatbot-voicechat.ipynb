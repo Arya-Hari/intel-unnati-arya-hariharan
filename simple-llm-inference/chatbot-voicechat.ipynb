{
 "cells": [
  {
   "cell_type": "code",
   "execution_count": 1,
   "id": "8b24a62d-7a16-4fd4-909a-2bd5d656f23e",
   "metadata": {},
   "outputs": [
    {
     "name": "stdout",
     "output_type": "stream",
     "text": [
      "Defaulting to user installation because normal site-packages is not writeable\n",
      "Requirement already satisfied: intel-extension-for-transformers in ./.local/lib/python3.9/site-packages (1.4.2)\n",
      "Requirement already satisfied: packaging in /opt/intel/oneapi/intelpython/lib/python3.9/site-packages (from intel-extension-for-transformers) (23.2)\n",
      "Requirement already satisfied: numpy in ./.local/lib/python3.9/site-packages (from intel-extension-for-transformers) (1.23.5)\n",
      "Requirement already satisfied: schema in ./.local/lib/python3.9/site-packages (from intel-extension-for-transformers) (0.7.7)\n",
      "Requirement already satisfied: pyyaml in /opt/intel/oneapi/intelpython/lib/python3.9/site-packages (from intel-extension-for-transformers) (6.0.1)\n",
      "Requirement already satisfied: neural-compressor in ./.local/lib/python3.9/site-packages (from intel-extension-for-transformers) (2.6)\n",
      "Requirement already satisfied: transformers in ./.local/lib/python3.9/site-packages (from intel-extension-for-transformers) (4.42.3)\n",
      "Requirement already satisfied: deprecated>=1.2.13 in ./.local/lib/python3.9/site-packages (from neural-compressor->intel-extension-for-transformers) (1.2.14)\n",
      "Requirement already satisfied: opencv-python-headless in ./.local/lib/python3.9/site-packages (from neural-compressor->intel-extension-for-transformers) (4.10.0.84)\n",
      "Requirement already satisfied: pandas in /opt/intel/oneapi/intelpython/lib/python3.9/site-packages (from neural-compressor->intel-extension-for-transformers) (2.2.2)\n",
      "Requirement already satisfied: Pillow in /opt/intel/oneapi/intelpython/lib/python3.9/site-packages (from neural-compressor->intel-extension-for-transformers) (10.2.0)\n",
      "Requirement already satisfied: prettytable in ./.local/lib/python3.9/site-packages (from neural-compressor->intel-extension-for-transformers) (3.10.0)\n",
      "Requirement already satisfied: psutil in /opt/intel/oneapi/intelpython/lib/python3.9/site-packages (from neural-compressor->intel-extension-for-transformers) (5.9.8)\n",
      "Requirement already satisfied: py-cpuinfo in ./.local/lib/python3.9/site-packages (from neural-compressor->intel-extension-for-transformers) (9.0.0)\n",
      "Requirement already satisfied: requests in ./.local/lib/python3.9/site-packages (from neural-compressor->intel-extension-for-transformers) (2.32.3)\n",
      "Requirement already satisfied: scikit-learn in /opt/intel/oneapi/intelpython/lib/python3.9/site-packages (from neural-compressor->intel-extension-for-transformers) (1.4.0)\n",
      "Requirement already satisfied: pycocotools in ./.local/lib/python3.9/site-packages (from neural-compressor->intel-extension-for-transformers) (2.0.8)\n",
      "Requirement already satisfied: filelock in ./.local/lib/python3.9/site-packages (from transformers->intel-extension-for-transformers) (3.15.4)\n",
      "Requirement already satisfied: huggingface-hub<1.0,>=0.23.2 in ./.local/lib/python3.9/site-packages (from transformers->intel-extension-for-transformers) (0.23.4)\n",
      "Requirement already satisfied: regex!=2019.12.17 in ./.local/lib/python3.9/site-packages (from transformers->intel-extension-for-transformers) (2024.5.15)\n",
      "Requirement already satisfied: safetensors>=0.4.1 in ./.local/lib/python3.9/site-packages (from transformers->intel-extension-for-transformers) (0.4.3)\n",
      "Requirement already satisfied: tokenizers<0.20,>=0.19 in ./.local/lib/python3.9/site-packages (from transformers->intel-extension-for-transformers) (0.19.1)\n",
      "Requirement already satisfied: tqdm>=4.27 in ./.local/lib/python3.9/site-packages (from transformers->intel-extension-for-transformers) (4.66.4)\n",
      "Requirement already satisfied: wrapt<2,>=1.10 in ./.local/lib/python3.9/site-packages (from deprecated>=1.2.13->neural-compressor->intel-extension-for-transformers) (1.16.0)\n",
      "Requirement already satisfied: fsspec>=2023.5.0 in ./.local/lib/python3.9/site-packages (from huggingface-hub<1.0,>=0.23.2->transformers->intel-extension-for-transformers) (2024.5.0)\n",
      "Requirement already satisfied: typing-extensions>=3.7.4.3 in /opt/intel/oneapi/intelpython/lib/python3.9/site-packages (from huggingface-hub<1.0,>=0.23.2->transformers->intel-extension-for-transformers) (4.9.0)\n",
      "Requirement already satisfied: python-dateutil>=2.8.2 in /opt/intel/oneapi/intelpython/lib/python3.9/site-packages (from pandas->neural-compressor->intel-extension-for-transformers) (2.8.2)\n",
      "Requirement already satisfied: pytz>=2020.1 in /opt/intel/oneapi/intelpython/lib/python3.9/site-packages (from pandas->neural-compressor->intel-extension-for-transformers) (2024.1)\n",
      "Requirement already satisfied: tzdata>=2022.7 in /opt/intel/oneapi/intelpython/lib/python3.9/site-packages (from pandas->neural-compressor->intel-extension-for-transformers) (2023.4)\n",
      "Requirement already satisfied: wcwidth in /opt/intel/oneapi/intelpython/lib/python3.9/site-packages (from prettytable->neural-compressor->intel-extension-for-transformers) (0.2.13)\n",
      "Requirement already satisfied: matplotlib>=2.1.0 in /opt/intel/oneapi/intelpython/lib/python3.9/site-packages (from pycocotools->neural-compressor->intel-extension-for-transformers) (3.8.2)\n",
      "Requirement already satisfied: charset-normalizer<4,>=2 in /opt/intel/oneapi/intelpython/lib/python3.9/site-packages (from requests->neural-compressor->intel-extension-for-transformers) (3.3.2)\n",
      "Requirement already satisfied: idna<4,>=2.5 in /opt/intel/oneapi/intelpython/lib/python3.9/site-packages (from requests->neural-compressor->intel-extension-for-transformers) (3.6)\n",
      "Requirement already satisfied: urllib3<3,>=1.21.1 in /opt/intel/oneapi/intelpython/lib/python3.9/site-packages (from requests->neural-compressor->intel-extension-for-transformers) (2.2.1)\n",
      "Requirement already satisfied: certifi>=2017.4.17 in /opt/intel/oneapi/intelpython/lib/python3.9/site-packages (from requests->neural-compressor->intel-extension-for-transformers) (2024.2.2)\n",
      "Requirement already satisfied: scipy>=1.6.0 in /opt/intel/oneapi/intelpython/lib/python3.9/site-packages (from scikit-learn->neural-compressor->intel-extension-for-transformers) (1.10.1)\n",
      "Requirement already satisfied: joblib>=1.2.0 in /opt/intel/oneapi/intelpython/lib/python3.9/site-packages (from scikit-learn->neural-compressor->intel-extension-for-transformers) (1.3.2)\n",
      "Requirement already satisfied: threadpoolctl>=2.0.0 in /opt/intel/oneapi/intelpython/lib/python3.9/site-packages (from scikit-learn->neural-compressor->intel-extension-for-transformers) (3.3.0)\n",
      "Requirement already satisfied: contourpy>=1.0.1 in /opt/intel/oneapi/intelpython/lib/python3.9/site-packages (from matplotlib>=2.1.0->pycocotools->neural-compressor->intel-extension-for-transformers) (1.2.0)\n",
      "Requirement already satisfied: cycler>=0.10 in /opt/intel/oneapi/intelpython/lib/python3.9/site-packages (from matplotlib>=2.1.0->pycocotools->neural-compressor->intel-extension-for-transformers) (0.12.1)\n",
      "Requirement already satisfied: fonttools>=4.22.0 in /opt/intel/oneapi/intelpython/lib/python3.9/site-packages (from matplotlib>=2.1.0->pycocotools->neural-compressor->intel-extension-for-transformers) (4.47.2)\n",
      "Requirement already satisfied: kiwisolver>=1.3.1 in /opt/intel/oneapi/intelpython/lib/python3.9/site-packages (from matplotlib>=2.1.0->pycocotools->neural-compressor->intel-extension-for-transformers) (1.4.5)\n",
      "Requirement already satisfied: pyparsing>=2.3.1 in /opt/intel/oneapi/intelpython/lib/python3.9/site-packages (from matplotlib>=2.1.0->pycocotools->neural-compressor->intel-extension-for-transformers) (3.1.1)\n",
      "Requirement already satisfied: importlib-resources>=3.2.0 in /opt/intel/oneapi/intelpython/lib/python3.9/site-packages (from matplotlib>=2.1.0->pycocotools->neural-compressor->intel-extension-for-transformers) (6.1.1)\n",
      "Requirement already satisfied: six>=1.5 in /opt/intel/oneapi/intelpython/lib/python3.9/site-packages (from python-dateutil>=2.8.2->pandas->neural-compressor->intel-extension-for-transformers) (1.16.0)\n",
      "Requirement already satisfied: zipp>=3.1.0 in /opt/intel/oneapi/intelpython/lib/python3.9/site-packages (from importlib-resources>=3.2.0->matplotlib>=2.1.0->pycocotools->neural-compressor->intel-extension-for-transformers) (3.17.0)\n"
     ]
    }
   ],
   "source": [
    "!pip install intel-extension-for-transformers"
   ]
  },
  {
   "cell_type": "code",
   "execution_count": 2,
   "id": "a027ffc0-b752-41bc-915f-f9adf8fd41e4",
   "metadata": {},
   "outputs": [
    {
     "name": "stdout",
     "output_type": "stream",
     "text": [
      "Defaulting to user installation because normal site-packages is not writeable\n",
      "Ignoring openjtalk: markers 'sys_platform != \"linux\"' don't match your environment\n",
      "Collecting cn2an (from -r requirements-audio.txt (line 1))\n",
      "  Downloading cn2an-0.5.22-py3-none-any.whl.metadata (10 kB)\n",
      "Requirement already satisfied: datasets in ./.local/lib/python3.9/site-packages (from -r requirements-audio.txt (line 2)) (2.20.0)\n",
      "Collecting g2p_en (from -r requirements-audio.txt (line 3))\n",
      "  Downloading g2p_en-2.1.0-py3-none-any.whl.metadata (4.5 kB)\n",
      "Collecting inflect (from -r requirements-audio.txt (line 4))\n",
      "  Downloading inflect-7.3.1-py3-none-any.whl.metadata (21 kB)\n",
      "Collecting jaconv (from -r requirements-audio.txt (line 5))\n",
      "  Downloading jaconv-0.3.4.tar.gz (16 kB)\n",
      "  Preparing metadata (setup.py) ... \u001b[?25ldone\n",
      "\u001b[?25hCollecting jieba (from -r requirements-audio.txt (line 6))\n",
      "  Downloading jieba-0.42.1.tar.gz (19.2 MB)\n",
      "\u001b[2K     \u001b[90m━━━━━━━━━━━━━━━━━━━━━━━━━━━━━━━━━━━━━━━━\u001b[0m \u001b[32m19.2/19.2 MB\u001b[0m \u001b[31m59.5 MB/s\u001b[0m eta \u001b[36m0:00:00\u001b[0m00:01\u001b[0m00:01\u001b[0m\n",
      "\u001b[?25h  Preparing metadata (setup.py) ... \u001b[?25ldone\n",
      "\u001b[?25hRequirement already satisfied: langid in ./.local/lib/python3.9/site-packages (from -r requirements-audio.txt (line 7)) (1.1.6)\n",
      "Collecting librosa (from -r requirements-audio.txt (line 8))\n",
      "  Downloading librosa-0.10.2.post1-py3-none-any.whl.metadata (8.6 kB)\n",
      "Collecting num2words (from -r requirements-audio.txt (line 9))\n",
      "  Downloading num2words-0.5.13-py3-none-any.whl.metadata (12 kB)\n",
      "Collecting pydub (from -r requirements-audio.txt (line 11))\n",
      "  Downloading pydub-0.25.1-py2.py3-none-any.whl.metadata (1.4 kB)\n",
      "Collecting pyopenjtalk (from -r requirements-audio.txt (line 12))\n",
      "  Downloading pyopenjtalk-0.3.3.tar.gz (1.6 MB)\n",
      "\u001b[2K     \u001b[90m━━━━━━━━━━━━━━━━━━━━━━━━━━━━━━━━━━━━━━━━\u001b[0m \u001b[32m1.6/1.6 MB\u001b[0m \u001b[31m42.5 MB/s\u001b[0m eta \u001b[36m0:00:00\u001b[0m:00:01\u001b[0m\n",
      "\u001b[?25h  Installing build dependencies ... \u001b[?25ldone\n",
      "\u001b[?25h  Getting requirements to build wheel ... \u001b[?25ldone\n",
      "\u001b[?25h  Installing backend dependencies ... \u001b[?25ldone\n",
      "\u001b[?25h  Preparing metadata (pyproject.toml) ... \u001b[?25ldone\n",
      "\u001b[?25hCollecting pypinyin (from -r requirements-audio.txt (line 13))\n",
      "  Downloading pypinyin-0.51.0-py2.py3-none-any.whl.metadata (12 kB)\n",
      "Requirement already satisfied: python-multipart in ./.local/lib/python3.9/site-packages (from -r requirements-audio.txt (line 14)) (0.0.9)\n",
      "Collecting soundfile (from -r requirements-audio.txt (line 15))\n",
      "  Downloading soundfile-0.12.1-py2.py3-none-manylinux_2_31_x86_64.whl.metadata (14 kB)\n",
      "Collecting speechbrain==0.5.15 (from -r requirements-audio.txt (line 16))\n",
      "  Downloading speechbrain-0.5.15-py3-none-any.whl.metadata (23 kB)\n",
      "Requirement already satisfied: transformers in ./.local/lib/python3.9/site-packages (from -r requirements-audio.txt (line 17)) (4.42.3)\n",
      "Requirement already satisfied: urllib3 in /opt/intel/oneapi/intelpython/lib/python3.9/site-packages (from -r requirements-audio.txt (line 18)) (2.2.1)\n",
      "Collecting vector_quantize_pytorch (from -r requirements-audio.txt (line 19))\n",
      "  Downloading vector_quantize_pytorch-1.15.3-py3-none-any.whl.metadata (26 kB)\n",
      "Collecting webrtcvad (from -r requirements-audio.txt (line 20))\n",
      "  Downloading webrtcvad-2.0.10.tar.gz (66 kB)\n",
      "\u001b[2K     \u001b[90m━━━━━━━━━━━━━━━━━━━━━━━━━━━━━━━━━━━━━━━━\u001b[0m \u001b[32m66.2/66.2 kB\u001b[0m \u001b[31m3.9 MB/s\u001b[0m eta \u001b[36m0:00:00\u001b[0m\n",
      "\u001b[?25h  Preparing metadata (setup.py) ... \u001b[?25ldone\n",
      "\u001b[?25hCollecting zhconv (from -r requirements-audio.txt (line 21))\n",
      "  Downloading zhconv-1.4.3.tar.gz (211 kB)\n",
      "\u001b[2K     \u001b[90m━━━━━━━━━━━━━━━━━━━━━━━━━━━━━━━━━━━━━━\u001b[0m \u001b[32m211.6/211.6 kB\u001b[0m \u001b[31m11.5 MB/s\u001b[0m eta \u001b[36m0:00:00\u001b[0m\n",
      "\u001b[?25h  Preparing metadata (setup.py) ... \u001b[?25ldone\n",
      "\u001b[?25hCollecting hyperpyyaml (from speechbrain==0.5.15->-r requirements-audio.txt (line 16))\n",
      "  Downloading HyperPyYAML-1.2.2-py3-none-any.whl.metadata (7.6 kB)\n",
      "Requirement already satisfied: joblib in /opt/intel/oneapi/intelpython/lib/python3.9/site-packages (from speechbrain==0.5.15->-r requirements-audio.txt (line 16)) (1.3.2)\n",
      "Requirement already satisfied: numpy in ./.local/lib/python3.9/site-packages (from speechbrain==0.5.15->-r requirements-audio.txt (line 16)) (1.23.5)\n",
      "Requirement already satisfied: packaging in /opt/intel/oneapi/intelpython/lib/python3.9/site-packages (from speechbrain==0.5.15->-r requirements-audio.txt (line 16)) (23.2)\n",
      "Requirement already satisfied: scipy in /opt/intel/oneapi/intelpython/lib/python3.9/site-packages (from speechbrain==0.5.15->-r requirements-audio.txt (line 16)) (1.10.1)\n",
      "Requirement already satisfied: sentencepiece in ./.local/lib/python3.9/site-packages (from speechbrain==0.5.15->-r requirements-audio.txt (line 16)) (0.2.0)\n",
      "Requirement already satisfied: torch>=1.9 in ./.local/lib/python3.9/site-packages (from speechbrain==0.5.15->-r requirements-audio.txt (line 16)) (2.3.0)\n",
      "Requirement already satisfied: torchaudio in ./.local/lib/python3.9/site-packages (from speechbrain==0.5.15->-r requirements-audio.txt (line 16)) (2.3.0)\n",
      "Requirement already satisfied: tqdm in ./.local/lib/python3.9/site-packages (from speechbrain==0.5.15->-r requirements-audio.txt (line 16)) (4.66.4)\n",
      "Requirement already satisfied: huggingface-hub in ./.local/lib/python3.9/site-packages (from speechbrain==0.5.15->-r requirements-audio.txt (line 16)) (0.23.4)\n",
      "Requirement already satisfied: setuptools>=47.3.1 in /opt/intel/oneapi/intelpython/lib/python3.9/site-packages (from cn2an->-r requirements-audio.txt (line 1)) (69.1.0)\n",
      "Collecting proces>=0.1.3 (from cn2an->-r requirements-audio.txt (line 1))\n",
      "  Downloading proces-0.1.7-py3-none-any.whl.metadata (3.3 kB)\n",
      "Requirement already satisfied: filelock in ./.local/lib/python3.9/site-packages (from datasets->-r requirements-audio.txt (line 2)) (3.15.4)\n",
      "Requirement already satisfied: pyarrow>=15.0.0 in ./.local/lib/python3.9/site-packages (from datasets->-r requirements-audio.txt (line 2)) (16.1.0)\n",
      "Requirement already satisfied: pyarrow-hotfix in ./.local/lib/python3.9/site-packages (from datasets->-r requirements-audio.txt (line 2)) (0.6)\n",
      "Requirement already satisfied: dill<0.3.9,>=0.3.0 in ./.local/lib/python3.9/site-packages (from datasets->-r requirements-audio.txt (line 2)) (0.3.8)\n",
      "Requirement already satisfied: pandas in /opt/intel/oneapi/intelpython/lib/python3.9/site-packages (from datasets->-r requirements-audio.txt (line 2)) (2.2.2)\n",
      "Requirement already satisfied: requests>=2.32.2 in ./.local/lib/python3.9/site-packages (from datasets->-r requirements-audio.txt (line 2)) (2.32.3)\n",
      "Requirement already satisfied: xxhash in ./.local/lib/python3.9/site-packages (from datasets->-r requirements-audio.txt (line 2)) (3.4.1)\n",
      "Requirement already satisfied: multiprocess in ./.local/lib/python3.9/site-packages (from datasets->-r requirements-audio.txt (line 2)) (0.70.16)\n",
      "Requirement already satisfied: fsspec<=2024.5.0,>=2023.1.0 in ./.local/lib/python3.9/site-packages (from fsspec[http]<=2024.5.0,>=2023.1.0->datasets->-r requirements-audio.txt (line 2)) (2024.5.0)\n",
      "Requirement already satisfied: aiohttp in ./.local/lib/python3.9/site-packages (from datasets->-r requirements-audio.txt (line 2)) (3.9.5)\n",
      "Requirement already satisfied: pyyaml>=5.1 in /opt/intel/oneapi/intelpython/lib/python3.9/site-packages (from datasets->-r requirements-audio.txt (line 2)) (6.0.1)\n",
      "Requirement already satisfied: nltk>=3.2.4 in ./.local/lib/python3.9/site-packages (from g2p_en->-r requirements-audio.txt (line 3)) (3.8.1)\n",
      "Collecting distance>=0.1.3 (from g2p_en->-r requirements-audio.txt (line 3))\n",
      "  Downloading Distance-0.1.3.tar.gz (180 kB)\n",
      "\u001b[2K     \u001b[90m━━━━━━━━━━━━━━━━━━━━━━━━━━━━━━━━━━━━━━\u001b[0m \u001b[32m180.3/180.3 kB\u001b[0m \u001b[31m11.8 MB/s\u001b[0m eta \u001b[36m0:00:00\u001b[0m\n",
      "\u001b[?25h  Preparing metadata (setup.py) ... \u001b[?25ldone\n",
      "\u001b[?25hRequirement already satisfied: more-itertools>=8.5.0 in ./.local/lib/python3.9/site-packages (from inflect->-r requirements-audio.txt (line 4)) (10.3.0)\n",
      "Collecting typeguard>=4.0.1 (from inflect->-r requirements-audio.txt (line 4))\n",
      "  Downloading typeguard-4.3.0-py3-none-any.whl.metadata (3.7 kB)\n",
      "Collecting audioread>=2.1.9 (from librosa->-r requirements-audio.txt (line 8))\n",
      "  Downloading audioread-3.0.1-py3-none-any.whl.metadata (8.4 kB)\n",
      "Requirement already satisfied: scikit-learn>=0.20.0 in /opt/intel/oneapi/intelpython/lib/python3.9/site-packages (from librosa->-r requirements-audio.txt (line 8)) (1.4.0)\n",
      "Requirement already satisfied: decorator>=4.3.0 in /opt/intel/oneapi/intelpython/lib/python3.9/site-packages (from librosa->-r requirements-audio.txt (line 8)) (5.0.9)\n",
      "Requirement already satisfied: numba>=0.51.0 in /opt/intel/oneapi/intelpython/lib/python3.9/site-packages (from librosa->-r requirements-audio.txt (line 8)) (0.59.0)\n",
      "Requirement already satisfied: pooch>=1.1 in /opt/intel/oneapi/intelpython/lib/python3.9/site-packages (from librosa->-r requirements-audio.txt (line 8)) (1.8.1)\n",
      "Collecting soxr>=0.3.2 (from librosa->-r requirements-audio.txt (line 8))\n",
      "  Downloading soxr-0.3.7-cp39-cp39-manylinux_2_17_x86_64.manylinux2014_x86_64.whl.metadata (5.5 kB)\n",
      "Requirement already satisfied: typing-extensions>=4.1.1 in /opt/intel/oneapi/intelpython/lib/python3.9/site-packages (from librosa->-r requirements-audio.txt (line 8)) (4.9.0)\n",
      "Requirement already satisfied: lazy-loader>=0.1 in ./.local/lib/python3.9/site-packages (from librosa->-r requirements-audio.txt (line 8)) (0.4)\n",
      "Requirement already satisfied: msgpack>=1.0 in ./.local/lib/python3.9/site-packages (from librosa->-r requirements-audio.txt (line 8)) (1.0.8)\n",
      "Collecting docopt>=0.6.2 (from num2words->-r requirements-audio.txt (line 9))\n",
      "  Downloading docopt-0.6.2.tar.gz (25 kB)\n",
      "  Preparing metadata (setup.py) ... \u001b[?25ldone\n",
      "\u001b[?25hRequirement already satisfied: six in /opt/intel/oneapi/intelpython/lib/python3.9/site-packages (from pyopenjtalk->-r requirements-audio.txt (line 12)) (1.16.0)\n",
      "Requirement already satisfied: cffi>=1.0 in /opt/intel/oneapi/intelpython/lib/python3.9/site-packages (from soundfile->-r requirements-audio.txt (line 15)) (1.16.0)\n",
      "Requirement already satisfied: regex!=2019.12.17 in ./.local/lib/python3.9/site-packages (from transformers->-r requirements-audio.txt (line 17)) (2024.5.15)\n",
      "Requirement already satisfied: safetensors>=0.4.1 in ./.local/lib/python3.9/site-packages (from transformers->-r requirements-audio.txt (line 17)) (0.4.3)\n",
      "Requirement already satisfied: tokenizers<0.20,>=0.19 in ./.local/lib/python3.9/site-packages (from transformers->-r requirements-audio.txt (line 17)) (0.19.1)\n",
      "Requirement already satisfied: einops>=0.8.0 in ./.local/lib/python3.9/site-packages (from vector_quantize_pytorch->-r requirements-audio.txt (line 19)) (0.8.0)\n",
      "Collecting einx>=0.2.2 (from vector_quantize_pytorch->-r requirements-audio.txt (line 19))\n",
      "  Downloading einx-0.3.0-py3-none-any.whl.metadata (6.9 kB)\n",
      "Requirement already satisfied: pycparser in /opt/intel/oneapi/intelpython/lib/python3.9/site-packages (from cffi>=1.0->soundfile->-r requirements-audio.txt (line 15)) (2.21)\n",
      "Requirement already satisfied: sympy in ./.local/lib/python3.9/site-packages (from einx>=0.2.2->vector_quantize_pytorch->-r requirements-audio.txt (line 19)) (1.13.0)\n",
      "Collecting frozendict (from einx>=0.2.2->vector_quantize_pytorch->-r requirements-audio.txt (line 19))\n",
      "  Downloading frozendict-2.4.4-cp39-cp39-manylinux_2_17_x86_64.manylinux2014_x86_64.whl.metadata (23 kB)\n",
      "Requirement already satisfied: aiosignal>=1.1.2 in ./.local/lib/python3.9/site-packages (from aiohttp->datasets->-r requirements-audio.txt (line 2)) (1.3.1)\n",
      "Requirement already satisfied: attrs>=17.3.0 in /opt/intel/oneapi/intelpython/lib/python3.9/site-packages (from aiohttp->datasets->-r requirements-audio.txt (line 2)) (23.2.0)\n",
      "Requirement already satisfied: frozenlist>=1.1.1 in ./.local/lib/python3.9/site-packages (from aiohttp->datasets->-r requirements-audio.txt (line 2)) (1.4.1)\n",
      "Requirement already satisfied: multidict<7.0,>=4.5 in ./.local/lib/python3.9/site-packages (from aiohttp->datasets->-r requirements-audio.txt (line 2)) (6.0.5)\n",
      "Requirement already satisfied: yarl<2.0,>=1.0 in ./.local/lib/python3.9/site-packages (from aiohttp->datasets->-r requirements-audio.txt (line 2)) (1.9.4)\n",
      "Requirement already satisfied: async-timeout<5.0,>=4.0 in ./.local/lib/python3.9/site-packages (from aiohttp->datasets->-r requirements-audio.txt (line 2)) (4.0.3)\n",
      "Requirement already satisfied: click in ./.local/lib/python3.9/site-packages (from nltk>=3.2.4->g2p_en->-r requirements-audio.txt (line 3)) (8.1.7)\n",
      "Requirement already satisfied: llvmlite<0.43,>=0.42.0dev0 in /opt/intel/oneapi/intelpython/lib/python3.9/site-packages (from numba>=0.51.0->librosa->-r requirements-audio.txt (line 8)) (0.42.0)\n",
      "Requirement already satisfied: platformdirs>=2.5.0 in /opt/intel/oneapi/intelpython/lib/python3.9/site-packages (from pooch>=1.1->librosa->-r requirements-audio.txt (line 8)) (4.2.0)\n",
      "Requirement already satisfied: charset-normalizer<4,>=2 in /opt/intel/oneapi/intelpython/lib/python3.9/site-packages (from requests>=2.32.2->datasets->-r requirements-audio.txt (line 2)) (3.3.2)\n",
      "Requirement already satisfied: idna<4,>=2.5 in /opt/intel/oneapi/intelpython/lib/python3.9/site-packages (from requests>=2.32.2->datasets->-r requirements-audio.txt (line 2)) (3.6)\n",
      "Requirement already satisfied: certifi>=2017.4.17 in /opt/intel/oneapi/intelpython/lib/python3.9/site-packages (from requests>=2.32.2->datasets->-r requirements-audio.txt (line 2)) (2024.2.2)\n",
      "Requirement already satisfied: threadpoolctl>=2.0.0 in /opt/intel/oneapi/intelpython/lib/python3.9/site-packages (from scikit-learn>=0.20.0->librosa->-r requirements-audio.txt (line 8)) (3.3.0)\n",
      "Requirement already satisfied: networkx in ./.local/lib/python3.9/site-packages (from torch>=1.9->speechbrain==0.5.15->-r requirements-audio.txt (line 16)) (3.2.1)\n",
      "Requirement already satisfied: jinja2 in /opt/intel/oneapi/intelpython/lib/python3.9/site-packages (from torch>=1.9->speechbrain==0.5.15->-r requirements-audio.txt (line 16)) (3.1.3)\n",
      "Requirement already satisfied: nvidia-cuda-nvrtc-cu12==12.1.105 in ./.local/lib/python3.9/site-packages (from torch>=1.9->speechbrain==0.5.15->-r requirements-audio.txt (line 16)) (12.1.105)\n",
      "Requirement already satisfied: nvidia-cuda-runtime-cu12==12.1.105 in ./.local/lib/python3.9/site-packages (from torch>=1.9->speechbrain==0.5.15->-r requirements-audio.txt (line 16)) (12.1.105)\n",
      "Requirement already satisfied: nvidia-cuda-cupti-cu12==12.1.105 in ./.local/lib/python3.9/site-packages (from torch>=1.9->speechbrain==0.5.15->-r requirements-audio.txt (line 16)) (12.1.105)\n",
      "Requirement already satisfied: nvidia-cudnn-cu12==8.9.2.26 in ./.local/lib/python3.9/site-packages (from torch>=1.9->speechbrain==0.5.15->-r requirements-audio.txt (line 16)) (8.9.2.26)\n",
      "Requirement already satisfied: nvidia-cublas-cu12==12.1.3.1 in ./.local/lib/python3.9/site-packages (from torch>=1.9->speechbrain==0.5.15->-r requirements-audio.txt (line 16)) (12.1.3.1)\n",
      "Requirement already satisfied: nvidia-cufft-cu12==11.0.2.54 in ./.local/lib/python3.9/site-packages (from torch>=1.9->speechbrain==0.5.15->-r requirements-audio.txt (line 16)) (11.0.2.54)\n",
      "Requirement already satisfied: nvidia-curand-cu12==10.3.2.106 in ./.local/lib/python3.9/site-packages (from torch>=1.9->speechbrain==0.5.15->-r requirements-audio.txt (line 16)) (10.3.2.106)\n",
      "Requirement already satisfied: nvidia-cusolver-cu12==11.4.5.107 in ./.local/lib/python3.9/site-packages (from torch>=1.9->speechbrain==0.5.15->-r requirements-audio.txt (line 16)) (11.4.5.107)\n",
      "Requirement already satisfied: nvidia-cusparse-cu12==12.1.0.106 in ./.local/lib/python3.9/site-packages (from torch>=1.9->speechbrain==0.5.15->-r requirements-audio.txt (line 16)) (12.1.0.106)\n",
      "Requirement already satisfied: nvidia-nccl-cu12==2.20.5 in ./.local/lib/python3.9/site-packages (from torch>=1.9->speechbrain==0.5.15->-r requirements-audio.txt (line 16)) (2.20.5)\n",
      "Requirement already satisfied: nvidia-nvtx-cu12==12.1.105 in ./.local/lib/python3.9/site-packages (from torch>=1.9->speechbrain==0.5.15->-r requirements-audio.txt (line 16)) (12.1.105)\n",
      "Requirement already satisfied: triton==2.3.0 in ./.local/lib/python3.9/site-packages (from torch>=1.9->speechbrain==0.5.15->-r requirements-audio.txt (line 16)) (2.3.0)\n",
      "Requirement already satisfied: nvidia-nvjitlink-cu12 in ./.local/lib/python3.9/site-packages (from nvidia-cusolver-cu12==11.4.5.107->torch>=1.9->speechbrain==0.5.15->-r requirements-audio.txt (line 16)) (12.5.82)\n",
      "Collecting typing-extensions>=4.1.1 (from librosa->-r requirements-audio.txt (line 8))\n",
      "  Downloading typing_extensions-4.12.2-py3-none-any.whl.metadata (3.0 kB)\n",
      "Requirement already satisfied: importlib-metadata>=3.6 in /opt/intel/oneapi/intelpython/lib/python3.9/site-packages (from typeguard>=4.0.1->inflect->-r requirements-audio.txt (line 4)) (7.0.2)\n",
      "Requirement already satisfied: ruamel.yaml>=0.17.28 in /opt/intel/oneapi/intelpython/lib/python3.9/site-packages (from hyperpyyaml->speechbrain==0.5.15->-r requirements-audio.txt (line 16)) (0.17.40)\n",
      "Requirement already satisfied: python-dateutil>=2.8.2 in /opt/intel/oneapi/intelpython/lib/python3.9/site-packages (from pandas->datasets->-r requirements-audio.txt (line 2)) (2.8.2)\n",
      "Requirement already satisfied: pytz>=2020.1 in /opt/intel/oneapi/intelpython/lib/python3.9/site-packages (from pandas->datasets->-r requirements-audio.txt (line 2)) (2024.1)\n",
      "Requirement already satisfied: tzdata>=2022.7 in /opt/intel/oneapi/intelpython/lib/python3.9/site-packages (from pandas->datasets->-r requirements-audio.txt (line 2)) (2023.4)\n",
      "Requirement already satisfied: zipp>=0.5 in /opt/intel/oneapi/intelpython/lib/python3.9/site-packages (from importlib-metadata>=3.6->typeguard>=4.0.1->inflect->-r requirements-audio.txt (line 4)) (3.17.0)\n",
      "Requirement already satisfied: ruamel.yaml.clib>=0.2.7 in /opt/intel/oneapi/intelpython/lib/python3.9/site-packages (from ruamel.yaml>=0.17.28->hyperpyyaml->speechbrain==0.5.15->-r requirements-audio.txt (line 16)) (0.2.8)\n",
      "Requirement already satisfied: MarkupSafe>=2.0 in /opt/intel/oneapi/intelpython/lib/python3.9/site-packages (from jinja2->torch>=1.9->speechbrain==0.5.15->-r requirements-audio.txt (line 16)) (2.1.4)\n",
      "Requirement already satisfied: mpmath<1.4,>=1.1.0 in ./.local/lib/python3.9/site-packages (from sympy->einx>=0.2.2->vector_quantize_pytorch->-r requirements-audio.txt (line 19)) (1.3.0)\n",
      "Downloading speechbrain-0.5.15-py3-none-any.whl (553 kB)\n",
      "\u001b[2K   \u001b[90m━━━━━━━━━━━━━━━━━━━━━━━━━━━━━━━━━━━━━━━━\u001b[0m \u001b[32m553.8/553.8 kB\u001b[0m \u001b[31m33.1 MB/s\u001b[0m eta \u001b[36m0:00:00\u001b[0m\n",
      "\u001b[?25hDownloading cn2an-0.5.22-py3-none-any.whl (224 kB)\n",
      "\u001b[2K   \u001b[90m━━━━━━━━━━━━━━━━━━━━━━━━━━━━━━━━━━━━━━━━\u001b[0m \u001b[32m225.0/225.0 kB\u001b[0m \u001b[31m16.3 MB/s\u001b[0m eta \u001b[36m0:00:00\u001b[0m\n",
      "\u001b[?25hDownloading g2p_en-2.1.0-py3-none-any.whl (3.1 MB)\n",
      "\u001b[2K   \u001b[90m━━━━━━━━━━━━━━━━━━━━━━━━━━━━━━━━━━━━━━━━\u001b[0m \u001b[32m3.1/3.1 MB\u001b[0m \u001b[31m83.8 MB/s\u001b[0m eta \u001b[36m0:00:00\u001b[0m:00:01\u001b[0m\n",
      "\u001b[?25hDownloading inflect-7.3.1-py3-none-any.whl (34 kB)\n",
      "Downloading librosa-0.10.2.post1-py3-none-any.whl (260 kB)\n",
      "\u001b[2K   \u001b[90m━━━━━━━━━━━━━━━━━━━━━━━━━━━━━━━━━━━━━━━━\u001b[0m \u001b[32m260.1/260.1 kB\u001b[0m \u001b[31m16.7 MB/s\u001b[0m eta \u001b[36m0:00:00\u001b[0m\n",
      "\u001b[?25hDownloading num2words-0.5.13-py3-none-any.whl (143 kB)\n",
      "\u001b[2K   \u001b[90m━━━━━━━━━━━━━━━━━━━━━━━━━━━━━━━━━━━━━━━━\u001b[0m \u001b[32m143.3/143.3 kB\u001b[0m \u001b[31m10.3 MB/s\u001b[0m eta \u001b[36m0:00:00\u001b[0m\n",
      "\u001b[?25hDownloading pydub-0.25.1-py2.py3-none-any.whl (32 kB)\n",
      "Downloading pypinyin-0.51.0-py2.py3-none-any.whl (1.4 MB)\n",
      "\u001b[2K   \u001b[90m━━━━━━━━━━━━━━━━━━━━━━━━━━━━━━━━━━━━━━━━\u001b[0m \u001b[32m1.4/1.4 MB\u001b[0m \u001b[31m64.4 MB/s\u001b[0m eta \u001b[36m0:00:00\u001b[0m\n",
      "\u001b[?25hDownloading soundfile-0.12.1-py2.py3-none-manylinux_2_31_x86_64.whl (1.2 MB)\n",
      "\u001b[2K   \u001b[90m━━━━━━━━━━━━━━━━━━━━━━━━━━━━━━━━━━━━━━━━\u001b[0m \u001b[32m1.2/1.2 MB\u001b[0m \u001b[31m66.1 MB/s\u001b[0m eta \u001b[36m0:00:00\u001b[0m\n",
      "\u001b[?25hDownloading vector_quantize_pytorch-1.15.3-py3-none-any.whl (38 kB)\n",
      "Downloading audioread-3.0.1-py3-none-any.whl (23 kB)\n",
      "Downloading einx-0.3.0-py3-none-any.whl (102 kB)\n",
      "\u001b[2K   \u001b[90m━━━━━━━━━━━━━━━━━━━━━━━━━━━━━━━━━━━━━━━━\u001b[0m \u001b[32m103.0/103.0 kB\u001b[0m \u001b[31m8.0 MB/s\u001b[0m eta \u001b[36m0:00:00\u001b[0m\n",
      "\u001b[?25hDownloading proces-0.1.7-py3-none-any.whl (137 kB)\n",
      "\u001b[2K   \u001b[90m━━━━━━━━━━━━━━━━━━━━━━━━━━━━━━━━━━━━━━━━\u001b[0m \u001b[32m137.7/137.7 kB\u001b[0m \u001b[31m11.2 MB/s\u001b[0m eta \u001b[36m0:00:00\u001b[0m\n",
      "\u001b[?25hDownloading soxr-0.3.7-cp39-cp39-manylinux_2_17_x86_64.manylinux2014_x86_64.whl (1.2 MB)\n",
      "\u001b[2K   \u001b[90m━━━━━━━━━━━━━━━━━━━━━━━━━━━━━━━━━━━━━━━━\u001b[0m \u001b[32m1.2/1.2 MB\u001b[0m \u001b[31m60.5 MB/s\u001b[0m eta \u001b[36m0:00:00\u001b[0m\n",
      "\u001b[?25hDownloading typeguard-4.3.0-py3-none-any.whl (35 kB)\n",
      "Downloading typing_extensions-4.12.2-py3-none-any.whl (37 kB)\n",
      "Downloading HyperPyYAML-1.2.2-py3-none-any.whl (16 kB)\n",
      "Downloading frozendict-2.4.4-cp39-cp39-manylinux_2_17_x86_64.manylinux2014_x86_64.whl (116 kB)\n",
      "\u001b[2K   \u001b[90m━━━━━━━━━━━━━━━━━━━━━━━━━━━━━━━━━━━━━━━━\u001b[0m \u001b[32m116.8/116.8 kB\u001b[0m \u001b[31m9.0 MB/s\u001b[0m eta \u001b[36m0:00:00\u001b[0m\n",
      "\u001b[?25hBuilding wheels for collected packages: jaconv, jieba, pyopenjtalk, webrtcvad, zhconv, distance, docopt\n",
      "  Building wheel for jaconv (setup.py) ... \u001b[?25ldone\n",
      "\u001b[?25h  Created wheel for jaconv: filename=jaconv-0.3.4-py3-none-any.whl size=16415 sha256=b5a81d5301bef42bfb79a3445947c8f56b05e2e082f8c8aeecba6502bc53cc3f\n",
      "  Stored in directory: /home/ueb85a29a9d9eddd1758cc2b8dbb4c61/.cache/pip/wheels/49/de/f1/55f605920db3666d30215331bc85f24686dde9b95b473ae41b\n",
      "  Building wheel for jieba (setup.py) ... \u001b[?25ldone\n",
      "\u001b[?25h  Created wheel for jieba: filename=jieba-0.42.1-py3-none-any.whl size=19314459 sha256=2da0a41ecfa37892bd4c8f4c0beee3ec53c575a36aa64a58d7c628721ff71fa2\n",
      "  Stored in directory: /home/ueb85a29a9d9eddd1758cc2b8dbb4c61/.cache/pip/wheels/7d/74/cf/08c94db4b784e2c1ef675a600b7b5b281fd25240dcb954ee7e\n",
      "  Building wheel for pyopenjtalk (pyproject.toml) ... \u001b[?25ldone\n",
      "\u001b[?25h  Created wheel for pyopenjtalk: filename=pyopenjtalk-0.3.3-cp39-cp39-linux_x86_64.whl size=1193583 sha256=b508198be9742440f0e68e835cff2db9b803afefe8db456bc84d345ce2ca6c64\n",
      "  Stored in directory: /home/ueb85a29a9d9eddd1758cc2b8dbb4c61/.cache/pip/wheels/d6/1e/46/f15c401c93d6fdf1dba5c9268033c057d033f6243e8f51e806\n",
      "  Building wheel for webrtcvad (setup.py) ... \u001b[?25ldone\n",
      "\u001b[?25h  Created wheel for webrtcvad: filename=webrtcvad-2.0.10-cp39-cp39-linux_x86_64.whl size=27581 sha256=4b046a2ecccd74abee07dcb8e0e282e970b312ee1b84e735c4721c982ffa1d31\n",
      "  Stored in directory: /home/ueb85a29a9d9eddd1758cc2b8dbb4c61/.cache/pip/wheels/1f/fe/28/e8f0d5847ae2642b49fa974db1cea44d59ab59d0251c12f17b\n",
      "  Building wheel for zhconv (setup.py) ... \u001b[?25ldone\n",
      "\u001b[?25h  Created wheel for zhconv: filename=zhconv-1.4.3-py2.py3-none-any.whl size=208851 sha256=9bb5878d24ba4fbafdcb579a14bb82bb0fd4e3a7e694ef893903280660d55d33\n",
      "  Stored in directory: /home/ueb85a29a9d9eddd1758cc2b8dbb4c61/.cache/pip/wheels/a6/f6/f3/5630825019bccc6cf6af7bdb907a13df305876a130723caa40\n",
      "  Building wheel for distance (setup.py) ... \u001b[?25ldone\n",
      "\u001b[?25h  Created wheel for distance: filename=Distance-0.1.3-py3-none-any.whl size=16258 sha256=a96e02470b1f5bf093af8caa39212e2e70c445822c754685ba3dbc52175729b4\n",
      "  Stored in directory: /home/ueb85a29a9d9eddd1758cc2b8dbb4c61/.cache/pip/wheels/fb/b3/aa/04241cced6d1722b132273b1d6aafba317887ec004f48b853a\n",
      "  Building wheel for docopt (setup.py) ... \u001b[?25ldone\n",
      "\u001b[?25h  Created wheel for docopt: filename=docopt-0.6.2-py2.py3-none-any.whl size=13706 sha256=82b83aee4aceb7589c76cb677a65c6c0802e002b950c57745237a47e1617b0de\n",
      "  Stored in directory: /home/ueb85a29a9d9eddd1758cc2b8dbb4c61/.cache/pip/wheels/70/4a/46/1309fc853b8d395e60bafaf1b6df7845bdd82c95fd59dd8d2b\n",
      "Successfully built jaconv jieba pyopenjtalk webrtcvad zhconv distance docopt\n",
      "Installing collected packages: zhconv, webrtcvad, pydub, jieba, jaconv, docopt, distance, typing-extensions, soxr, pypinyin, pyopenjtalk, proces, num2words, frozendict, audioread, typeguard, soundfile, hyperpyyaml, einx, cn2an, librosa, inflect, vector_quantize_pytorch, g2p_en, speechbrain\n",
      "\u001b[33m  WARNING: The script pypinyin is installed in '/home/ueb85a29a9d9eddd1758cc2b8dbb4c61/.local/bin' which is not on PATH.\n",
      "  Consider adding this directory to PATH or, if you prefer to suppress this warning, use --no-warn-script-location.\u001b[0m\u001b[33m\n",
      "\u001b[0m\u001b[31mERROR: pip's dependency resolver does not currently take into account all the packages that are installed. This behaviour is the source of the following dependency conflicts.\n",
      "tensorflow 2.16.2 requires protobuf!=4.21.0,!=4.21.1,!=4.21.2,!=4.21.3,!=4.21.4,!=4.21.5,<5.0.0dev,>=3.20.3, but you have protobuf 3.20.0 which is incompatible.\u001b[0m\u001b[31m\n",
      "\u001b[0mSuccessfully installed audioread-3.0.1 cn2an-0.5.22 distance-0.1.3 docopt-0.6.2 einx-0.3.0 frozendict-2.4.4 g2p_en-2.1.0 hyperpyyaml-1.2.2 inflect-7.3.1 jaconv-0.3.4 jieba-0.42.1 librosa-0.10.2.post1 num2words-0.5.13 proces-0.1.7 pydub-0.25.1 pyopenjtalk-0.3.3 pypinyin-0.51.0 soundfile-0.12.1 soxr-0.3.7 speechbrain-0.5.15 typeguard-4.3.0 typing-extensions-4.12.2 vector_quantize_pytorch-1.15.3 webrtcvad-2.0.10 zhconv-1.4.3\n"
     ]
    }
   ],
   "source": [
    "!pip install -r requirements-audio.txt"
   ]
  },
  {
   "cell_type": "code",
   "execution_count": 3,
   "id": "34172194-1d3d-44d9-ab39-78037a684c61",
   "metadata": {},
   "outputs": [
    {
     "name": "stderr",
     "output_type": "stream",
     "text": [
      "/home/ueb85a29a9d9eddd1758cc2b8dbb4c61/.local/lib/python3.9/site-packages/transformers/deepspeed.py:24: FutureWarning: transformers.deepspeed module is deprecated and will be removed in a future version. Please import deepspeed modules directly from transformers.integrations\n",
      "  warnings.warn(\n",
      "/home/ueb85a29a9d9eddd1758cc2b8dbb4c61/.local/lib/python3.9/site-packages/pydub/utils.py:170: RuntimeWarning: Couldn't find ffmpeg or avconv - defaulting to ffmpeg, but may not work\n",
      "  warn(\"Couldn't find ffmpeg or avconv - defaulting to ffmpeg, but may not work\", RuntimeWarning)\n",
      "[nltk_data] Downloading package averaged_perceptron_tagger to\n",
      "[nltk_data]     /home/ueb85a29a9d9eddd1758cc2b8dbb4c61/nltk_data...\n",
      "[nltk_data]   Unzipping taggers/averaged_perceptron_tagger.zip.\n",
      "[nltk_data] Downloading package cmudict to\n",
      "[nltk_data]     /home/ueb85a29a9d9eddd1758cc2b8dbb4c61/nltk_data...\n",
      "[nltk_data]   Unzipping corpora/cmudict.zip.\n"
     ]
    },
    {
     "name": "stdout",
     "output_type": "stream",
     "text": [
      "create tts plugin instance...\n",
      "plugin parameters:  {'output_audio_path': './response.wav'}\n"
     ]
    },
    {
     "data": {
      "application/vnd.jupyter.widget-view+json": {
       "model_id": "bcc82774d49245a5b82f29948541ccc8",
       "version_major": 2,
       "version_minor": 0
      },
      "text/plain": [
       "config.json:   0%|          | 0.00/2.06k [00:00<?, ?B/s]"
      ]
     },
     "metadata": {},
     "output_type": "display_data"
    },
    {
     "data": {
      "application/vnd.jupyter.widget-view+json": {
       "model_id": "ec2e584769124c85b5de442ee4c98c91",
       "version_major": 2,
       "version_minor": 0
      },
      "text/plain": [
       "pytorch_model.bin:   0%|          | 0.00/585M [00:00<?, ?B/s]"
      ]
     },
     "metadata": {},
     "output_type": "display_data"
    },
    {
     "data": {
      "application/vnd.jupyter.widget-view+json": {
       "model_id": "9f33d4d91f4b4afeb438bb9d4cae1c0d",
       "version_major": 2,
       "version_minor": 0
      },
      "text/plain": [
       "preprocessor_config.json:   0%|          | 0.00/433 [00:00<?, ?B/s]"
      ]
     },
     "metadata": {},
     "output_type": "display_data"
    },
    {
     "data": {
      "application/vnd.jupyter.widget-view+json": {
       "model_id": "343d16a1dc42465e9475c70329e7857b",
       "version_major": 2,
       "version_minor": 0
      },
      "text/plain": [
       "tokenizer_config.json:   0%|          | 0.00/232 [00:00<?, ?B/s]"
      ]
     },
     "metadata": {},
     "output_type": "display_data"
    },
    {
     "data": {
      "application/vnd.jupyter.widget-view+json": {
       "model_id": "5c2e079cd4a94eb69377634f4ff46093",
       "version_major": 2,
       "version_minor": 0
      },
      "text/plain": [
       "spm_char.model:   0%|          | 0.00/238k [00:00<?, ?B/s]"
      ]
     },
     "metadata": {},
     "output_type": "display_data"
    },
    {
     "data": {
      "application/vnd.jupyter.widget-view+json": {
       "model_id": "e985363a5be34a4ca0c28a6beb204f19",
       "version_major": 2,
       "version_minor": 0
      },
      "text/plain": [
       "added_tokens.json:   0%|          | 0.00/40.0 [00:00<?, ?B/s]"
      ]
     },
     "metadata": {},
     "output_type": "display_data"
    },
    {
     "data": {
      "application/vnd.jupyter.widget-view+json": {
       "model_id": "296b0e4413c845669a445d83be74b36d",
       "version_major": 2,
       "version_minor": 0
      },
      "text/plain": [
       "special_tokens_map.json:   0%|          | 0.00/234 [00:00<?, ?B/s]"
      ]
     },
     "metadata": {},
     "output_type": "display_data"
    },
    {
     "data": {
      "application/vnd.jupyter.widget-view+json": {
       "model_id": "025906514fc54519a55ac31d70d6034d",
       "version_major": 2,
       "version_minor": 0
      },
      "text/plain": [
       "hyperparams.yaml:   0%|          | 0.00/2.04k [00:00<?, ?B/s]"
      ]
     },
     "metadata": {},
     "output_type": "display_data"
    },
    {
     "data": {
      "application/vnd.jupyter.widget-view+json": {
       "model_id": "c2c9dfa408c8438bb2ad587c8e39f731",
       "version_major": 2,
       "version_minor": 0
      },
      "text/plain": [
       "embedding_model.ckpt:   0%|          | 0.00/16.9M [00:00<?, ?B/s]"
      ]
     },
     "metadata": {},
     "output_type": "display_data"
    },
    {
     "data": {
      "application/vnd.jupyter.widget-view+json": {
       "model_id": "3578698952a2476cb9ae4faa34082e17",
       "version_major": 2,
       "version_minor": 0
      },
      "text/plain": [
       "mean_var_norm_emb.ckpt:   0%|          | 0.00/3.20k [00:00<?, ?B/s]"
      ]
     },
     "metadata": {},
     "output_type": "display_data"
    },
    {
     "data": {
      "application/vnd.jupyter.widget-view+json": {
       "model_id": "8696264dd1f1434a975d43835bbf8611",
       "version_major": 2,
       "version_minor": 0
      },
      "text/plain": [
       "classifier.ckpt:   0%|          | 0.00/15.9M [00:00<?, ?B/s]"
      ]
     },
     "metadata": {},
     "output_type": "display_data"
    },
    {
     "data": {
      "application/vnd.jupyter.widget-view+json": {
       "model_id": "d7929ba8f7684a46b46568a52be85674",
       "version_major": 2,
       "version_minor": 0
      },
      "text/plain": [
       "label_encoder.txt:   0%|          | 0.00/129k [00:00<?, ?B/s]"
      ]
     },
     "metadata": {},
     "output_type": "display_data"
    },
    {
     "data": {
      "application/vnd.jupyter.widget-view+json": {
       "model_id": "00af386f755a4013acb2a223fed84442",
       "version_major": 2,
       "version_minor": 0
      },
      "text/plain": [
       "config.json:   0%|          | 0.00/636 [00:00<?, ?B/s]"
      ]
     },
     "metadata": {},
     "output_type": "display_data"
    },
    {
     "data": {
      "application/vnd.jupyter.widget-view+json": {
       "model_id": "ce8e320fc4084cac8cba35ab1b86149c",
       "version_major": 2,
       "version_minor": 0
      },
      "text/plain": [
       "pytorch_model.bin:   0%|          | 0.00/50.7M [00:00<?, ?B/s]"
      ]
     },
     "metadata": {},
     "output_type": "display_data"
    },
    {
     "name": "stdout",
     "output_type": "stream",
     "text": [
      "create asr plugin instance...\n",
      "plugin parameters:  {}\n"
     ]
    },
    {
     "data": {
      "application/vnd.jupyter.widget-view+json": {
       "model_id": "939c0adf2b2b4d009548d7279ccf6aea",
       "version_major": 2,
       "version_minor": 0
      },
      "text/plain": [
       "config.json:   0%|          | 0.00/1.97k [00:00<?, ?B/s]"
      ]
     },
     "metadata": {},
     "output_type": "display_data"
    },
    {
     "data": {
      "application/vnd.jupyter.widget-view+json": {
       "model_id": "e4fe99914253478685d6de27852e6535",
       "version_major": 2,
       "version_minor": 0
      },
      "text/plain": [
       "model.safetensors:   0%|          | 0.00/967M [00:00<?, ?B/s]"
      ]
     },
     "metadata": {},
     "output_type": "display_data"
    },
    {
     "data": {
      "application/vnd.jupyter.widget-view+json": {
       "model_id": "cff4cd0730ec42bb91dbbf136965ef84",
       "version_major": 2,
       "version_minor": 0
      },
      "text/plain": [
       "generation_config.json:   0%|          | 0.00/3.87k [00:00<?, ?B/s]"
      ]
     },
     "metadata": {},
     "output_type": "display_data"
    },
    {
     "data": {
      "application/vnd.jupyter.widget-view+json": {
       "model_id": "0aece1b650a84d919d4d4cb01dee4640",
       "version_major": 2,
       "version_minor": 0
      },
      "text/plain": [
       "preprocessor_config.json:   0%|          | 0.00/185k [00:00<?, ?B/s]"
      ]
     },
     "metadata": {},
     "output_type": "display_data"
    },
    {
     "data": {
      "application/vnd.jupyter.widget-view+json": {
       "model_id": "857c39c6b3b3455fafb9950745a992d2",
       "version_major": 2,
       "version_minor": 0
      },
      "text/plain": [
       "tokenizer_config.json:   0%|          | 0.00/283k [00:00<?, ?B/s]"
      ]
     },
     "metadata": {},
     "output_type": "display_data"
    },
    {
     "data": {
      "application/vnd.jupyter.widget-view+json": {
       "model_id": "d26d0d59b7a44a84bc6adc86f42534a7",
       "version_major": 2,
       "version_minor": 0
      },
      "text/plain": [
       "vocab.json:   0%|          | 0.00/836k [00:00<?, ?B/s]"
      ]
     },
     "metadata": {},
     "output_type": "display_data"
    },
    {
     "data": {
      "application/vnd.jupyter.widget-view+json": {
       "model_id": "3b5393ac592d4d2cadd5c2501110b7be",
       "version_major": 2,
       "version_minor": 0
      },
      "text/plain": [
       "tokenizer.json:   0%|          | 0.00/2.48M [00:00<?, ?B/s]"
      ]
     },
     "metadata": {},
     "output_type": "display_data"
    },
    {
     "data": {
      "application/vnd.jupyter.widget-view+json": {
       "model_id": "f67a823b12a64717b69cec54fda06ff5",
       "version_major": 2,
       "version_minor": 0
      },
      "text/plain": [
       "merges.txt:   0%|          | 0.00/494k [00:00<?, ?B/s]"
      ]
     },
     "metadata": {},
     "output_type": "display_data"
    },
    {
     "data": {
      "application/vnd.jupyter.widget-view+json": {
       "model_id": "03f6208515ba46a5990de7ace4f6f3cf",
       "version_major": 2,
       "version_minor": 0
      },
      "text/plain": [
       "normalizer.json:   0%|          | 0.00/52.7k [00:00<?, ?B/s]"
      ]
     },
     "metadata": {},
     "output_type": "display_data"
    },
    {
     "data": {
      "application/vnd.jupyter.widget-view+json": {
       "model_id": "6f0003dddc504f59a693475c8fb490b2",
       "version_major": 2,
       "version_minor": 0
      },
      "text/plain": [
       "added_tokens.json:   0%|          | 0.00/34.6k [00:00<?, ?B/s]"
      ]
     },
     "metadata": {},
     "output_type": "display_data"
    },
    {
     "data": {
      "application/vnd.jupyter.widget-view+json": {
       "model_id": "7a6cda15c5fb4bbd9952e6d66f2ae95d",
       "version_major": 2,
       "version_minor": 0
      },
      "text/plain": [
       "special_tokens_map.json:   0%|          | 0.00/2.19k [00:00<?, ?B/s]"
      ]
     },
     "metadata": {},
     "output_type": "display_data"
    },
    {
     "name": "stderr",
     "output_type": "stream",
     "text": [
      "Special tokens have been added in the vocabulary, make sure the associated word embeddings are fine-tuned or trained.\n"
     ]
    },
    {
     "name": "stdout",
     "output_type": "stream",
     "text": [
      "Loading model Intel/neural-chat-7b-v3-1\n"
     ]
    },
    {
     "data": {
      "application/vnd.jupyter.widget-view+json": {
       "model_id": "def0486cc2144046af5f02eeef7e7b41",
       "version_major": 2,
       "version_minor": 0
      },
      "text/plain": [
       "Loading checkpoint shards:   0%|          | 0/2 [00:00<?, ?it/s]"
      ]
     },
     "metadata": {},
     "output_type": "display_data"
    },
    {
     "name": "stderr",
     "output_type": "stream",
     "text": [
      "2024-07-12 05:47:17.606481: I tensorflow/core/util/port.cc:113] oneDNN custom operations are on. You may see slightly different numerical results due to floating-point round-off errors from different computation orders. To turn them off, set the environment variable `TF_ENABLE_ONEDNN_OPTS=0`.\n",
      "2024-07-12 05:47:18.306070: E external/local_xla/xla/stream_executor/cuda/cuda_fft.cc:479] Unable to register cuFFT factory: Attempting to register factory for plugin cuFFT when one has already been registered\n",
      "2024-07-12 05:47:18.471950: E external/local_xla/xla/stream_executor/cuda/cuda_dnn.cc:10575] Unable to register cuDNN factory: Attempting to register factory for plugin cuDNN when one has already been registered\n",
      "2024-07-12 05:47:18.472040: E external/local_xla/xla/stream_executor/cuda/cuda_blas.cc:1442] Unable to register cuBLAS factory: Attempting to register factory for plugin cuBLAS when one has already been registered\n",
      "2024-07-12 05:47:18.633675: I tensorflow/core/platform/cpu_feature_guard.cc:210] This TensorFlow binary is optimized to use available CPU instructions in performance-critical operations.\n",
      "To enable the following instructions: AVX2 AVX512F AVX512_VNNI AVX512_BF16 AVX512_FP16 AVX_VNNI AMX_TILE AMX_INT8 AMX_BF16 FMA, in other operations, rebuild TensorFlow with the appropriate compiler flags.\n",
      "2024-07-12 05:47:21.187820: W tensorflow/compiler/tf2tensorrt/utils/py_utils.cc:38] TF-TRT Warning: Could not find TensorRT\n",
      "Due to a bug fix in https://github.com/huggingface/transformers/pull/28687 transcription using a multilingual Whisper will default to language detection followed by transcription instead of translation to English.This might be a breaking change for your use case. If you want to instead always translate your audio to English, make sure to pass `language='en'`.\n",
      "The attention mask is not set and cannot be inferred from input because pad token is same as eos token.As a consequence, you may observe unexpected behavior. Please pass your input's `attention_mask` to obtain reliable results.\n",
      "2024-07-12 05:47:35,362 - tts.py - root - WARNING - No customized speaker embedding is found! Use the default one\n"
     ]
    },
    {
     "name": "stdout",
     "output_type": "stream",
     "text": [
      "./response.wav\n"
     ]
    }
   ],
   "source": [
    "from intel_extension_for_transformers.neural_chat import PipelineConfig\n",
    "from intel_extension_for_transformers.neural_chat import build_chatbot\n",
    "from intel_extension_for_transformers.neural_chat import plugins\n",
    "plugins.tts.enable = True\n",
    "plugins.tts.args[\"output_audio_path\"] = \"./response.wav\"\n",
    "plugins.asr.enable = True\n",
    "\n",
    "config = PipelineConfig(plugins=plugins)\n",
    "chatbot = build_chatbot(config)\n",
    "result = chatbot.predict(query=\"./sample.wav\")\n",
    "print(result)"
   ]
  }
 ],
 "metadata": {
  "kernelspec": {
   "display_name": "Base",
   "language": "python",
   "name": "base"
  },
  "language_info": {
   "codemirror_mode": {
    "name": "ipython",
    "version": 3
   },
   "file_extension": ".py",
   "mimetype": "text/x-python",
   "name": "python",
   "nbconvert_exporter": "python",
   "pygments_lexer": "ipython3",
   "version": "3.9.18"
  }
 },
 "nbformat": 4,
 "nbformat_minor": 5
}
