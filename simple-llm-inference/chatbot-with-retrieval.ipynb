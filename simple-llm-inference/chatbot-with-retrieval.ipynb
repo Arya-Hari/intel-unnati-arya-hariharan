{
 "cells": [
  {
   "cell_type": "code",
   "execution_count": 1,
   "id": "4f190a33-c17d-4780-91a3-1b292b75f466",
   "metadata": {},
   "outputs": [
    {
     "name": "stdout",
     "output_type": "stream",
     "text": [
      "Defaulting to user installation because normal site-packages is not writeable\n",
      "Requirement already satisfied: intel-extension-for-transformers in ./.local/lib/python3.9/site-packages (1.4.2)\n",
      "Requirement already satisfied: packaging in /opt/intel/oneapi/intelpython/lib/python3.9/site-packages (from intel-extension-for-transformers) (23.2)\n",
      "Requirement already satisfied: numpy in ./.local/lib/python3.9/site-packages (from intel-extension-for-transformers) (1.23.5)\n",
      "Requirement already satisfied: schema in ./.local/lib/python3.9/site-packages (from intel-extension-for-transformers) (0.7.7)\n",
      "Requirement already satisfied: pyyaml in /opt/intel/oneapi/intelpython/lib/python3.9/site-packages (from intel-extension-for-transformers) (6.0.1)\n",
      "Requirement already satisfied: neural-compressor in ./.local/lib/python3.9/site-packages (from intel-extension-for-transformers) (2.6)\n",
      "Requirement already satisfied: transformers in ./.local/lib/python3.9/site-packages (from intel-extension-for-transformers) (4.42.3)\n",
      "Requirement already satisfied: deprecated>=1.2.13 in ./.local/lib/python3.9/site-packages (from neural-compressor->intel-extension-for-transformers) (1.2.14)\n",
      "Requirement already satisfied: opencv-python-headless in ./.local/lib/python3.9/site-packages (from neural-compressor->intel-extension-for-transformers) (4.10.0.84)\n",
      "Requirement already satisfied: pandas in /opt/intel/oneapi/intelpython/lib/python3.9/site-packages (from neural-compressor->intel-extension-for-transformers) (2.2.2)\n",
      "Requirement already satisfied: Pillow in /opt/intel/oneapi/intelpython/lib/python3.9/site-packages (from neural-compressor->intel-extension-for-transformers) (10.2.0)\n",
      "Requirement already satisfied: prettytable in ./.local/lib/python3.9/site-packages (from neural-compressor->intel-extension-for-transformers) (3.10.0)\n",
      "Requirement already satisfied: psutil in /opt/intel/oneapi/intelpython/lib/python3.9/site-packages (from neural-compressor->intel-extension-for-transformers) (5.9.8)\n",
      "Requirement already satisfied: py-cpuinfo in ./.local/lib/python3.9/site-packages (from neural-compressor->intel-extension-for-transformers) (9.0.0)\n",
      "Requirement already satisfied: requests in ./.local/lib/python3.9/site-packages (from neural-compressor->intel-extension-for-transformers) (2.32.3)\n",
      "Requirement already satisfied: scikit-learn in /opt/intel/oneapi/intelpython/lib/python3.9/site-packages (from neural-compressor->intel-extension-for-transformers) (1.4.0)\n",
      "Requirement already satisfied: pycocotools in ./.local/lib/python3.9/site-packages (from neural-compressor->intel-extension-for-transformers) (2.0.8)\n",
      "Requirement already satisfied: filelock in ./.local/lib/python3.9/site-packages (from transformers->intel-extension-for-transformers) (3.15.4)\n",
      "Requirement already satisfied: huggingface-hub<1.0,>=0.23.2 in ./.local/lib/python3.9/site-packages (from transformers->intel-extension-for-transformers) (0.23.4)\n",
      "Requirement already satisfied: regex!=2019.12.17 in ./.local/lib/python3.9/site-packages (from transformers->intel-extension-for-transformers) (2024.5.15)\n",
      "Requirement already satisfied: safetensors>=0.4.1 in ./.local/lib/python3.9/site-packages (from transformers->intel-extension-for-transformers) (0.4.3)\n",
      "Requirement already satisfied: tokenizers<0.20,>=0.19 in ./.local/lib/python3.9/site-packages (from transformers->intel-extension-for-transformers) (0.19.1)\n",
      "Requirement already satisfied: tqdm>=4.27 in ./.local/lib/python3.9/site-packages (from transformers->intel-extension-for-transformers) (4.66.4)\n",
      "Requirement already satisfied: wrapt<2,>=1.10 in ./.local/lib/python3.9/site-packages (from deprecated>=1.2.13->neural-compressor->intel-extension-for-transformers) (1.16.0)\n",
      "Requirement already satisfied: fsspec>=2023.5.0 in ./.local/lib/python3.9/site-packages (from huggingface-hub<1.0,>=0.23.2->transformers->intel-extension-for-transformers) (2024.5.0)\n",
      "Requirement already satisfied: typing-extensions>=3.7.4.3 in /opt/intel/oneapi/intelpython/lib/python3.9/site-packages (from huggingface-hub<1.0,>=0.23.2->transformers->intel-extension-for-transformers) (4.9.0)\n",
      "Requirement already satisfied: python-dateutil>=2.8.2 in /opt/intel/oneapi/intelpython/lib/python3.9/site-packages (from pandas->neural-compressor->intel-extension-for-transformers) (2.8.2)\n",
      "Requirement already satisfied: pytz>=2020.1 in /opt/intel/oneapi/intelpython/lib/python3.9/site-packages (from pandas->neural-compressor->intel-extension-for-transformers) (2024.1)\n",
      "Requirement already satisfied: tzdata>=2022.7 in /opt/intel/oneapi/intelpython/lib/python3.9/site-packages (from pandas->neural-compressor->intel-extension-for-transformers) (2023.4)\n",
      "Requirement already satisfied: wcwidth in /opt/intel/oneapi/intelpython/lib/python3.9/site-packages (from prettytable->neural-compressor->intel-extension-for-transformers) (0.2.13)\n",
      "Requirement already satisfied: matplotlib>=2.1.0 in /opt/intel/oneapi/intelpython/lib/python3.9/site-packages (from pycocotools->neural-compressor->intel-extension-for-transformers) (3.8.2)\n",
      "Requirement already satisfied: charset-normalizer<4,>=2 in /opt/intel/oneapi/intelpython/lib/python3.9/site-packages (from requests->neural-compressor->intel-extension-for-transformers) (3.3.2)\n",
      "Requirement already satisfied: idna<4,>=2.5 in /opt/intel/oneapi/intelpython/lib/python3.9/site-packages (from requests->neural-compressor->intel-extension-for-transformers) (3.6)\n",
      "Requirement already satisfied: urllib3<3,>=1.21.1 in /opt/intel/oneapi/intelpython/lib/python3.9/site-packages (from requests->neural-compressor->intel-extension-for-transformers) (2.2.1)\n",
      "Requirement already satisfied: certifi>=2017.4.17 in /opt/intel/oneapi/intelpython/lib/python3.9/site-packages (from requests->neural-compressor->intel-extension-for-transformers) (2024.2.2)\n",
      "Requirement already satisfied: scipy>=1.6.0 in /opt/intel/oneapi/intelpython/lib/python3.9/site-packages (from scikit-learn->neural-compressor->intel-extension-for-transformers) (1.10.1)\n",
      "Requirement already satisfied: joblib>=1.2.0 in /opt/intel/oneapi/intelpython/lib/python3.9/site-packages (from scikit-learn->neural-compressor->intel-extension-for-transformers) (1.3.2)\n",
      "Requirement already satisfied: threadpoolctl>=2.0.0 in /opt/intel/oneapi/intelpython/lib/python3.9/site-packages (from scikit-learn->neural-compressor->intel-extension-for-transformers) (3.3.0)\n",
      "Requirement already satisfied: contourpy>=1.0.1 in /opt/intel/oneapi/intelpython/lib/python3.9/site-packages (from matplotlib>=2.1.0->pycocotools->neural-compressor->intel-extension-for-transformers) (1.2.0)\n",
      "Requirement already satisfied: cycler>=0.10 in /opt/intel/oneapi/intelpython/lib/python3.9/site-packages (from matplotlib>=2.1.0->pycocotools->neural-compressor->intel-extension-for-transformers) (0.12.1)\n",
      "Requirement already satisfied: fonttools>=4.22.0 in /opt/intel/oneapi/intelpython/lib/python3.9/site-packages (from matplotlib>=2.1.0->pycocotools->neural-compressor->intel-extension-for-transformers) (4.47.2)\n",
      "Requirement already satisfied: kiwisolver>=1.3.1 in /opt/intel/oneapi/intelpython/lib/python3.9/site-packages (from matplotlib>=2.1.0->pycocotools->neural-compressor->intel-extension-for-transformers) (1.4.5)\n",
      "Requirement already satisfied: pyparsing>=2.3.1 in /opt/intel/oneapi/intelpython/lib/python3.9/site-packages (from matplotlib>=2.1.0->pycocotools->neural-compressor->intel-extension-for-transformers) (3.1.1)\n",
      "Requirement already satisfied: importlib-resources>=3.2.0 in /opt/intel/oneapi/intelpython/lib/python3.9/site-packages (from matplotlib>=2.1.0->pycocotools->neural-compressor->intel-extension-for-transformers) (6.1.1)\n",
      "Requirement already satisfied: six>=1.5 in /opt/intel/oneapi/intelpython/lib/python3.9/site-packages (from python-dateutil>=2.8.2->pandas->neural-compressor->intel-extension-for-transformers) (1.16.0)\n",
      "Requirement already satisfied: zipp>=3.1.0 in /opt/intel/oneapi/intelpython/lib/python3.9/site-packages (from importlib-resources>=3.2.0->matplotlib>=2.1.0->pycocotools->neural-compressor->intel-extension-for-transformers) (3.17.0)\n"
     ]
    }
   ],
   "source": [
    "!pip install intel-extension-for-transformers"
   ]
  },
  {
   "cell_type": "code",
   "execution_count": 2,
   "id": "466decf4-7365-40e7-9c55-1d725242cdb4",
   "metadata": {},
   "outputs": [
    {
     "name": "stdout",
     "output_type": "stream",
     "text": [
      "Defaulting to user installation because normal site-packages is not writeable\n",
      "Requirement already satisfied: beautifulsoup4 in /opt/intel/oneapi/intelpython/lib/python3.9/site-packages (from -r requirements.txt (line 1)) (4.12.3)\n",
      "Requirement already satisfied: chromadb==0.4.15 in ./.local/lib/python3.9/site-packages (from -r requirements.txt (line 2)) (0.4.15)\n",
      "Requirement already satisfied: easyocr in ./.local/lib/python3.9/site-packages (from -r requirements.txt (line 3)) (1.7.1)\n",
      "Requirement already satisfied: FlagEmbedding in ./.local/lib/python3.9/site-packages (from -r requirements.txt (line 4)) (1.2.10)\n",
      "Requirement already satisfied: InstructorEmbedding in ./.local/lib/python3.9/site-packages (from -r requirements.txt (line 5)) (1.0.1)\n",
      "Requirement already satisfied: langchain==0.1.11 in ./.local/lib/python3.9/site-packages (from -r requirements.txt (line 6)) (0.1.11)\n",
      "Requirement already satisfied: langchain-community==0.0.27 in ./.local/lib/python3.9/site-packages (from -r requirements.txt (line 7)) (0.0.27)\n",
      "Requirement already satisfied: langchain_core==0.1.35 in ./.local/lib/python3.9/site-packages (from -r requirements.txt (line 8)) (0.1.35)\n",
      "Requirement already satisfied: langid in ./.local/lib/python3.9/site-packages (from -r requirements.txt (line 9)) (1.1.6)\n",
      "Requirement already satisfied: markdown in ./.local/lib/python3.9/site-packages (from -r requirements.txt (line 10)) (3.6)\n",
      "Requirement already satisfied: openpyxl in ./.local/lib/python3.9/site-packages (from -r requirements.txt (line 11)) (3.1.5)\n",
      "Collecting protobuf==3.20 (from -r requirements.txt (line 12))\n",
      "  Using cached protobuf-3.20.0-cp39-cp39-manylinux_2_5_x86_64.manylinux1_x86_64.whl.metadata (698 bytes)\n",
      "Requirement already satisfied: PyMuPDF in ./.local/lib/python3.9/site-packages (from -r requirements.txt (line 13)) (1.24.7)\n",
      "Requirement already satisfied: python-docx in ./.local/lib/python3.9/site-packages (from -r requirements.txt (line 14)) (1.1.2)\n",
      "Requirement already satisfied: qdrant-client==1.9.0 in ./.local/lib/python3.9/site-packages (from -r requirements.txt (line 15)) (1.9.0)\n",
      "Requirement already satisfied: rank_bm25 in ./.local/lib/python3.9/site-packages (from -r requirements.txt (line 16)) (0.2.2)\n",
      "Requirement already satisfied: scikit-learn in /opt/intel/oneapi/intelpython/lib/python3.9/site-packages (from -r requirements.txt (line 17)) (1.4.0)\n",
      "Requirement already satisfied: sentence-transformers==2.3.1 in ./.local/lib/python3.9/site-packages (from -r requirements.txt (line 18)) (2.3.1)\n",
      "Requirement already satisfied: torch==2.3.0 in ./.local/lib/python3.9/site-packages (from -r requirements.txt (line 19)) (2.3.0)\n",
      "Requirement already satisfied: torchaudio==2.3.0 in ./.local/lib/python3.9/site-packages (from -r requirements.txt (line 20)) (2.3.0)\n",
      "Requirement already satisfied: unstructured[all-docs] in ./.local/lib/python3.9/site-packages (from -r requirements.txt (line 21)) (0.14.10)\n",
      "Requirement already satisfied: requests>=2.28 in ./.local/lib/python3.9/site-packages (from chromadb==0.4.15->-r requirements.txt (line 2)) (2.32.3)\n",
      "Requirement already satisfied: pydantic>=1.9 in ./.local/lib/python3.9/site-packages (from chromadb==0.4.15->-r requirements.txt (line 2)) (1.10.13)\n",
      "Requirement already satisfied: chroma-hnswlib==0.7.3 in ./.local/lib/python3.9/site-packages (from chromadb==0.4.15->-r requirements.txt (line 2)) (0.7.3)\n",
      "Requirement already satisfied: fastapi>=0.95.2 in ./.local/lib/python3.9/site-packages (from chromadb==0.4.15->-r requirements.txt (line 2)) (0.111.0)\n",
      "Requirement already satisfied: uvicorn>=0.18.3 in ./.local/lib/python3.9/site-packages (from uvicorn[standard]>=0.18.3->chromadb==0.4.15->-r requirements.txt (line 2)) (0.30.1)\n",
      "Requirement already satisfied: posthog>=2.4.0 in ./.local/lib/python3.9/site-packages (from chromadb==0.4.15->-r requirements.txt (line 2)) (3.5.0)\n",
      "Requirement already satisfied: typing-extensions>=4.5.0 in /opt/intel/oneapi/intelpython/lib/python3.9/site-packages (from chromadb==0.4.15->-r requirements.txt (line 2)) (4.9.0)\n",
      "Requirement already satisfied: pulsar-client>=3.1.0 in ./.local/lib/python3.9/site-packages (from chromadb==0.4.15->-r requirements.txt (line 2)) (3.5.0)\n",
      "Requirement already satisfied: onnxruntime>=1.14.1 in ./.local/lib/python3.9/site-packages (from chromadb==0.4.15->-r requirements.txt (line 2)) (1.18.1)\n",
      "Requirement already satisfied: opentelemetry-api>=1.2.0 in ./.local/lib/python3.9/site-packages (from chromadb==0.4.15->-r requirements.txt (line 2)) (1.25.0)\n",
      "Requirement already satisfied: opentelemetry-exporter-otlp-proto-grpc>=1.2.0 in ./.local/lib/python3.9/site-packages (from chromadb==0.4.15->-r requirements.txt (line 2)) (1.25.0)\n",
      "Requirement already satisfied: opentelemetry-sdk>=1.2.0 in ./.local/lib/python3.9/site-packages (from chromadb==0.4.15->-r requirements.txt (line 2)) (1.25.0)\n",
      "Requirement already satisfied: tokenizers>=0.13.2 in ./.local/lib/python3.9/site-packages (from chromadb==0.4.15->-r requirements.txt (line 2)) (0.19.1)\n",
      "Requirement already satisfied: pypika>=0.48.9 in ./.local/lib/python3.9/site-packages (from chromadb==0.4.15->-r requirements.txt (line 2)) (0.48.9)\n",
      "Requirement already satisfied: tqdm>=4.65.0 in ./.local/lib/python3.9/site-packages (from chromadb==0.4.15->-r requirements.txt (line 2)) (4.66.4)\n",
      "Requirement already satisfied: overrides>=7.3.1 in /opt/intel/oneapi/intelpython/lib/python3.9/site-packages (from chromadb==0.4.15->-r requirements.txt (line 2)) (7.7.0)\n",
      "Requirement already satisfied: importlib-resources in /opt/intel/oneapi/intelpython/lib/python3.9/site-packages (from chromadb==0.4.15->-r requirements.txt (line 2)) (6.1.1)\n",
      "Requirement already satisfied: grpcio>=1.58.0 in ./.local/lib/python3.9/site-packages (from chromadb==0.4.15->-r requirements.txt (line 2)) (1.65.0)\n",
      "Requirement already satisfied: bcrypt>=4.0.1 in ./.local/lib/python3.9/site-packages (from chromadb==0.4.15->-r requirements.txt (line 2)) (4.1.3)\n",
      "Requirement already satisfied: typer>=0.9.0 in ./.local/lib/python3.9/site-packages (from chromadb==0.4.15->-r requirements.txt (line 2)) (0.12.3)\n",
      "Requirement already satisfied: kubernetes>=28.1.0 in ./.local/lib/python3.9/site-packages (from chromadb==0.4.15->-r requirements.txt (line 2)) (30.1.0)\n",
      "Requirement already satisfied: tenacity>=8.2.3 in ./.local/lib/python3.9/site-packages (from chromadb==0.4.15->-r requirements.txt (line 2)) (8.5.0)\n",
      "Requirement already satisfied: numpy>=1.22.5 in ./.local/lib/python3.9/site-packages (from chromadb==0.4.15->-r requirements.txt (line 2)) (1.23.5)\n",
      "Requirement already satisfied: PyYAML>=5.3 in /opt/intel/oneapi/intelpython/lib/python3.9/site-packages (from langchain==0.1.11->-r requirements.txt (line 6)) (6.0.1)\n",
      "Requirement already satisfied: SQLAlchemy<3,>=1.4 in ./.local/lib/python3.9/site-packages (from langchain==0.1.11->-r requirements.txt (line 6)) (2.0.31)\n",
      "Requirement already satisfied: aiohttp<4.0.0,>=3.8.3 in ./.local/lib/python3.9/site-packages (from langchain==0.1.11->-r requirements.txt (line 6)) (3.9.5)\n",
      "Requirement already satisfied: async-timeout<5.0.0,>=4.0.0 in ./.local/lib/python3.9/site-packages (from langchain==0.1.11->-r requirements.txt (line 6)) (4.0.3)\n",
      "Requirement already satisfied: dataclasses-json<0.7,>=0.5.7 in ./.local/lib/python3.9/site-packages (from langchain==0.1.11->-r requirements.txt (line 6)) (0.6.7)\n",
      "Requirement already satisfied: jsonpatch<2.0,>=1.33 in /opt/intel/oneapi/intelpython/lib/python3.9/site-packages (from langchain==0.1.11->-r requirements.txt (line 6)) (1.33)\n",
      "Requirement already satisfied: langchain-text-splitters<0.1,>=0.0.1 in ./.local/lib/python3.9/site-packages (from langchain==0.1.11->-r requirements.txt (line 6)) (0.0.2)\n",
      "Requirement already satisfied: langsmith<0.2.0,>=0.1.17 in ./.local/lib/python3.9/site-packages (from langchain==0.1.11->-r requirements.txt (line 6)) (0.1.85)\n",
      "Requirement already satisfied: packaging<24.0,>=23.2 in /opt/intel/oneapi/intelpython/lib/python3.9/site-packages (from langchain_core==0.1.35->-r requirements.txt (line 8)) (23.2)\n",
      "Requirement already satisfied: grpcio-tools>=1.41.0 in ./.local/lib/python3.9/site-packages (from qdrant-client==1.9.0->-r requirements.txt (line 15)) (1.48.2)\n",
      "Requirement already satisfied: httpx>=0.20.0 in /opt/intel/oneapi/intelpython/lib/python3.9/site-packages (from httpx[http2]>=0.20.0->qdrant-client==1.9.0->-r requirements.txt (line 15)) (0.27.0)\n",
      "Requirement already satisfied: portalocker<3.0.0,>=2.7.0 in ./.local/lib/python3.9/site-packages (from qdrant-client==1.9.0->-r requirements.txt (line 15)) (2.10.0)\n",
      "Requirement already satisfied: urllib3<3,>=1.26.14 in /opt/intel/oneapi/intelpython/lib/python3.9/site-packages (from qdrant-client==1.9.0->-r requirements.txt (line 15)) (2.2.1)\n",
      "Requirement already satisfied: transformers<5.0.0,>=4.32.0 in ./.local/lib/python3.9/site-packages (from sentence-transformers==2.3.1->-r requirements.txt (line 18)) (4.42.3)\n",
      "Requirement already satisfied: scipy in /opt/intel/oneapi/intelpython/lib/python3.9/site-packages (from sentence-transformers==2.3.1->-r requirements.txt (line 18)) (1.10.1)\n",
      "Requirement already satisfied: nltk in ./.local/lib/python3.9/site-packages (from sentence-transformers==2.3.1->-r requirements.txt (line 18)) (3.8.1)\n",
      "Requirement already satisfied: sentencepiece in ./.local/lib/python3.9/site-packages (from sentence-transformers==2.3.1->-r requirements.txt (line 18)) (0.2.0)\n",
      "Requirement already satisfied: huggingface-hub>=0.15.1 in ./.local/lib/python3.9/site-packages (from sentence-transformers==2.3.1->-r requirements.txt (line 18)) (0.23.4)\n",
      "Requirement already satisfied: Pillow in /opt/intel/oneapi/intelpython/lib/python3.9/site-packages (from sentence-transformers==2.3.1->-r requirements.txt (line 18)) (10.2.0)\n",
      "Requirement already satisfied: filelock in ./.local/lib/python3.9/site-packages (from torch==2.3.0->-r requirements.txt (line 19)) (3.15.4)\n",
      "Requirement already satisfied: sympy in ./.local/lib/python3.9/site-packages (from torch==2.3.0->-r requirements.txt (line 19)) (1.13.0)\n",
      "Requirement already satisfied: networkx in ./.local/lib/python3.9/site-packages (from torch==2.3.0->-r requirements.txt (line 19)) (3.2.1)\n",
      "Requirement already satisfied: jinja2 in /opt/intel/oneapi/intelpython/lib/python3.9/site-packages (from torch==2.3.0->-r requirements.txt (line 19)) (3.1.3)\n",
      "Requirement already satisfied: fsspec in ./.local/lib/python3.9/site-packages (from torch==2.3.0->-r requirements.txt (line 19)) (2024.5.0)\n",
      "Requirement already satisfied: nvidia-cuda-nvrtc-cu12==12.1.105 in ./.local/lib/python3.9/site-packages (from torch==2.3.0->-r requirements.txt (line 19)) (12.1.105)\n",
      "Requirement already satisfied: nvidia-cuda-runtime-cu12==12.1.105 in ./.local/lib/python3.9/site-packages (from torch==2.3.0->-r requirements.txt (line 19)) (12.1.105)\n",
      "Requirement already satisfied: nvidia-cuda-cupti-cu12==12.1.105 in ./.local/lib/python3.9/site-packages (from torch==2.3.0->-r requirements.txt (line 19)) (12.1.105)\n",
      "Requirement already satisfied: nvidia-cudnn-cu12==8.9.2.26 in ./.local/lib/python3.9/site-packages (from torch==2.3.0->-r requirements.txt (line 19)) (8.9.2.26)\n",
      "Requirement already satisfied: nvidia-cublas-cu12==12.1.3.1 in ./.local/lib/python3.9/site-packages (from torch==2.3.0->-r requirements.txt (line 19)) (12.1.3.1)\n",
      "Requirement already satisfied: nvidia-cufft-cu12==11.0.2.54 in ./.local/lib/python3.9/site-packages (from torch==2.3.0->-r requirements.txt (line 19)) (11.0.2.54)\n",
      "Requirement already satisfied: nvidia-curand-cu12==10.3.2.106 in ./.local/lib/python3.9/site-packages (from torch==2.3.0->-r requirements.txt (line 19)) (10.3.2.106)\n",
      "Requirement already satisfied: nvidia-cusolver-cu12==11.4.5.107 in ./.local/lib/python3.9/site-packages (from torch==2.3.0->-r requirements.txt (line 19)) (11.4.5.107)\n",
      "Requirement already satisfied: nvidia-cusparse-cu12==12.1.0.106 in ./.local/lib/python3.9/site-packages (from torch==2.3.0->-r requirements.txt (line 19)) (12.1.0.106)\n",
      "Requirement already satisfied: nvidia-nccl-cu12==2.20.5 in ./.local/lib/python3.9/site-packages (from torch==2.3.0->-r requirements.txt (line 19)) (2.20.5)\n",
      "Requirement already satisfied: nvidia-nvtx-cu12==12.1.105 in ./.local/lib/python3.9/site-packages (from torch==2.3.0->-r requirements.txt (line 19)) (12.1.105)\n",
      "Requirement already satisfied: triton==2.3.0 in ./.local/lib/python3.9/site-packages (from torch==2.3.0->-r requirements.txt (line 19)) (2.3.0)\n",
      "Requirement already satisfied: nvidia-nvjitlink-cu12 in ./.local/lib/python3.9/site-packages (from nvidia-cusolver-cu12==11.4.5.107->torch==2.3.0->-r requirements.txt (line 19)) (12.5.82)\n",
      "Requirement already satisfied: soupsieve>1.2 in /opt/intel/oneapi/intelpython/lib/python3.9/site-packages (from beautifulsoup4->-r requirements.txt (line 1)) (2.5)\n",
      "Requirement already satisfied: torchvision>=0.5 in ./.local/lib/python3.9/site-packages (from easyocr->-r requirements.txt (line 3)) (0.18.0)\n",
      "Requirement already satisfied: opencv-python-headless in ./.local/lib/python3.9/site-packages (from easyocr->-r requirements.txt (line 3)) (4.10.0.84)\n",
      "Requirement already satisfied: scikit-image in ./.local/lib/python3.9/site-packages (from easyocr->-r requirements.txt (line 3)) (0.24.0)\n",
      "Requirement already satisfied: python-bidi in ./.local/lib/python3.9/site-packages (from easyocr->-r requirements.txt (line 3)) (0.4.2)\n",
      "Requirement already satisfied: Shapely in ./.local/lib/python3.9/site-packages (from easyocr->-r requirements.txt (line 3)) (2.0.4)\n",
      "Requirement already satisfied: pyclipper in ./.local/lib/python3.9/site-packages (from easyocr->-r requirements.txt (line 3)) (1.3.0.post5)\n",
      "Requirement already satisfied: ninja in ./.local/lib/python3.9/site-packages (from easyocr->-r requirements.txt (line 3)) (1.11.1.1)\n",
      "Requirement already satisfied: datasets in ./.local/lib/python3.9/site-packages (from FlagEmbedding->-r requirements.txt (line 4)) (2.20.0)\n",
      "Requirement already satisfied: accelerate>=0.20.1 in ./.local/lib/python3.9/site-packages (from FlagEmbedding->-r requirements.txt (line 4)) (0.28.0)\n",
      "Requirement already satisfied: importlib-metadata>=4.4 in /opt/intel/oneapi/intelpython/lib/python3.9/site-packages (from markdown->-r requirements.txt (line 10)) (7.0.2)\n",
      "Requirement already satisfied: et-xmlfile in ./.local/lib/python3.9/site-packages (from openpyxl->-r requirements.txt (line 11)) (1.1.0)\n",
      "Requirement already satisfied: PyMuPDFb==1.24.6 in ./.local/lib/python3.9/site-packages (from PyMuPDF->-r requirements.txt (line 13)) (1.24.6)\n",
      "Requirement already satisfied: lxml>=3.1.0 in ./.local/lib/python3.9/site-packages (from python-docx->-r requirements.txt (line 14)) (5.2.2)\n",
      "Requirement already satisfied: joblib>=1.2.0 in /opt/intel/oneapi/intelpython/lib/python3.9/site-packages (from scikit-learn->-r requirements.txt (line 17)) (1.3.2)\n",
      "Requirement already satisfied: threadpoolctl>=2.0.0 in /opt/intel/oneapi/intelpython/lib/python3.9/site-packages (from scikit-learn->-r requirements.txt (line 17)) (3.3.0)\n",
      "Requirement already satisfied: chardet in ./.local/lib/python3.9/site-packages (from unstructured[all-docs]->-r requirements.txt (line 21)) (5.2.0)\n",
      "Requirement already satisfied: filetype in ./.local/lib/python3.9/site-packages (from unstructured[all-docs]->-r requirements.txt (line 21)) (1.2.0)\n",
      "Requirement already satisfied: python-magic in ./.local/lib/python3.9/site-packages (from unstructured[all-docs]->-r requirements.txt (line 21)) (0.4.27)\n",
      "Requirement already satisfied: tabulate in ./.local/lib/python3.9/site-packages (from unstructured[all-docs]->-r requirements.txt (line 21)) (0.9.0)\n",
      "Requirement already satisfied: emoji in ./.local/lib/python3.9/site-packages (from unstructured[all-docs]->-r requirements.txt (line 21)) (2.12.1)\n",
      "Requirement already satisfied: python-iso639 in ./.local/lib/python3.9/site-packages (from unstructured[all-docs]->-r requirements.txt (line 21)) (2024.4.27)\n",
      "Requirement already satisfied: langdetect in ./.local/lib/python3.9/site-packages (from unstructured[all-docs]->-r requirements.txt (line 21)) (1.0.9)\n",
      "Requirement already satisfied: rapidfuzz in ./.local/lib/python3.9/site-packages (from unstructured[all-docs]->-r requirements.txt (line 21)) (3.9.4)\n",
      "Requirement already satisfied: backoff in ./.local/lib/python3.9/site-packages (from unstructured[all-docs]->-r requirements.txt (line 21)) (2.2.1)\n",
      "Requirement already satisfied: unstructured-client in ./.local/lib/python3.9/site-packages (from unstructured[all-docs]->-r requirements.txt (line 21)) (0.24.0)\n",
      "Requirement already satisfied: wrapt in ./.local/lib/python3.9/site-packages (from unstructured[all-docs]->-r requirements.txt (line 21)) (1.16.0)\n",
      "Requirement already satisfied: psutil in /opt/intel/oneapi/intelpython/lib/python3.9/site-packages (from unstructured[all-docs]->-r requirements.txt (line 21)) (5.9.8)\n",
      "Requirement already satisfied: pillow-heif in ./.local/lib/python3.9/site-packages (from unstructured[all-docs]->-r requirements.txt (line 21)) (0.17.0)\n",
      "Requirement already satisfied: pypandoc in ./.local/lib/python3.9/site-packages (from unstructured[all-docs]->-r requirements.txt (line 21)) (1.13)\n",
      "Requirement already satisfied: pdf2image in ./.local/lib/python3.9/site-packages (from unstructured[all-docs]->-r requirements.txt (line 21)) (1.17.0)\n",
      "Requirement already satisfied: unstructured.pytesseract>=0.3.12 in ./.local/lib/python3.9/site-packages (from unstructured[all-docs]->-r requirements.txt (line 21)) (0.3.12)\n",
      "Requirement already satisfied: python-oxmsg in ./.local/lib/python3.9/site-packages (from unstructured[all-docs]->-r requirements.txt (line 21)) (0.0.1)\n",
      "Requirement already satisfied: pandas in /opt/intel/oneapi/intelpython/lib/python3.9/site-packages (from unstructured[all-docs]->-r requirements.txt (line 21)) (2.2.2)\n",
      "Requirement already satisfied: pikepdf in ./.local/lib/python3.9/site-packages (from unstructured[all-docs]->-r requirements.txt (line 21)) (9.0.0)\n",
      "Requirement already satisfied: effdet in ./.local/lib/python3.9/site-packages (from unstructured[all-docs]->-r requirements.txt (line 21)) (0.4.1)\n",
      "Requirement already satisfied: pdfminer.six in ./.local/lib/python3.9/site-packages (from unstructured[all-docs]->-r requirements.txt (line 21)) (20231228)\n",
      "Requirement already satisfied: google-cloud-vision in ./.local/lib/python3.9/site-packages (from unstructured[all-docs]->-r requirements.txt (line 21)) (3.1.2)\n",
      "Requirement already satisfied: pypdf in ./.local/lib/python3.9/site-packages (from unstructured[all-docs]->-r requirements.txt (line 21)) (4.2.0)\n",
      "Requirement already satisfied: unstructured-inference==0.7.36 in ./.local/lib/python3.9/site-packages (from unstructured[all-docs]->-r requirements.txt (line 21)) (0.7.36)\n",
      "Requirement already satisfied: onnx in ./.local/lib/python3.9/site-packages (from unstructured[all-docs]->-r requirements.txt (line 21)) (1.16.1)\n",
      "Requirement already satisfied: pytesseract in ./.local/lib/python3.9/site-packages (from unstructured[all-docs]->-r requirements.txt (line 21)) (0.3.10)\n",
      "Requirement already satisfied: python-pptx<=0.6.23 in ./.local/lib/python3.9/site-packages (from unstructured[all-docs]->-r requirements.txt (line 21)) (0.6.23)\n",
      "Requirement already satisfied: xlrd in ./.local/lib/python3.9/site-packages (from unstructured[all-docs]->-r requirements.txt (line 21)) (2.0.1)\n",
      "Requirement already satisfied: layoutparser in ./.local/lib/python3.9/site-packages (from unstructured-inference==0.7.36->unstructured[all-docs]->-r requirements.txt (line 21)) (0.3.4)\n",
      "Requirement already satisfied: python-multipart in ./.local/lib/python3.9/site-packages (from unstructured-inference==0.7.36->unstructured[all-docs]->-r requirements.txt (line 21)) (0.0.9)\n",
      "Requirement already satisfied: opencv-python!=4.7.0.68 in ./.local/lib/python3.9/site-packages (from unstructured-inference==0.7.36->unstructured[all-docs]->-r requirements.txt (line 21)) (4.10.0.84)\n",
      "Requirement already satisfied: matplotlib in /opt/intel/oneapi/intelpython/lib/python3.9/site-packages (from unstructured-inference==0.7.36->unstructured[all-docs]->-r requirements.txt (line 21)) (3.8.2)\n",
      "Requirement already satisfied: timm in ./.local/lib/python3.9/site-packages (from unstructured-inference==0.7.36->unstructured[all-docs]->-r requirements.txt (line 21)) (1.0.7)\n",
      "Requirement already satisfied: safetensors>=0.3.1 in ./.local/lib/python3.9/site-packages (from accelerate>=0.20.1->FlagEmbedding->-r requirements.txt (line 4)) (0.4.3)\n",
      "Requirement already satisfied: aiosignal>=1.1.2 in ./.local/lib/python3.9/site-packages (from aiohttp<4.0.0,>=3.8.3->langchain==0.1.11->-r requirements.txt (line 6)) (1.3.1)\n",
      "Requirement already satisfied: attrs>=17.3.0 in /opt/intel/oneapi/intelpython/lib/python3.9/site-packages (from aiohttp<4.0.0,>=3.8.3->langchain==0.1.11->-r requirements.txt (line 6)) (23.2.0)\n",
      "Requirement already satisfied: frozenlist>=1.1.1 in ./.local/lib/python3.9/site-packages (from aiohttp<4.0.0,>=3.8.3->langchain==0.1.11->-r requirements.txt (line 6)) (1.4.1)\n",
      "Requirement already satisfied: multidict<7.0,>=4.5 in ./.local/lib/python3.9/site-packages (from aiohttp<4.0.0,>=3.8.3->langchain==0.1.11->-r requirements.txt (line 6)) (6.0.5)\n",
      "Requirement already satisfied: yarl<2.0,>=1.0 in ./.local/lib/python3.9/site-packages (from aiohttp<4.0.0,>=3.8.3->langchain==0.1.11->-r requirements.txt (line 6)) (1.9.4)\n",
      "Requirement already satisfied: marshmallow<4.0.0,>=3.18.0 in ./.local/lib/python3.9/site-packages (from dataclasses-json<0.7,>=0.5.7->langchain==0.1.11->-r requirements.txt (line 6)) (3.21.3)\n",
      "Requirement already satisfied: typing-inspect<1,>=0.4.0 in ./.local/lib/python3.9/site-packages (from dataclasses-json<0.7,>=0.5.7->langchain==0.1.11->-r requirements.txt (line 6)) (0.9.0)\n",
      "Requirement already satisfied: starlette<0.38.0,>=0.37.2 in ./.local/lib/python3.9/site-packages (from fastapi>=0.95.2->chromadb==0.4.15->-r requirements.txt (line 2)) (0.37.2)\n",
      "Requirement already satisfied: fastapi-cli>=0.0.2 in ./.local/lib/python3.9/site-packages (from fastapi>=0.95.2->chromadb==0.4.15->-r requirements.txt (line 2)) (0.0.4)\n",
      "Requirement already satisfied: ujson!=4.0.2,!=4.1.0,!=4.2.0,!=4.3.0,!=5.0.0,!=5.1.0,>=4.0.1 in ./.local/lib/python3.9/site-packages (from fastapi>=0.95.2->chromadb==0.4.15->-r requirements.txt (line 2)) (5.10.0)\n",
      "Requirement already satisfied: orjson>=3.2.1 in ./.local/lib/python3.9/site-packages (from fastapi>=0.95.2->chromadb==0.4.15->-r requirements.txt (line 2)) (3.10.6)\n",
      "Requirement already satisfied: email_validator>=2.0.0 in ./.local/lib/python3.9/site-packages (from fastapi>=0.95.2->chromadb==0.4.15->-r requirements.txt (line 2)) (2.2.0)\n",
      "Requirement already satisfied: setuptools in /opt/intel/oneapi/intelpython/lib/python3.9/site-packages (from grpcio-tools>=1.41.0->qdrant-client==1.9.0->-r requirements.txt (line 15)) (69.1.0)\n",
      "Requirement already satisfied: anyio in /opt/intel/oneapi/intelpython/lib/python3.9/site-packages (from httpx>=0.20.0->httpx[http2]>=0.20.0->qdrant-client==1.9.0->-r requirements.txt (line 15)) (4.3.0)\n",
      "Requirement already satisfied: certifi in /opt/intel/oneapi/intelpython/lib/python3.9/site-packages (from httpx>=0.20.0->httpx[http2]>=0.20.0->qdrant-client==1.9.0->-r requirements.txt (line 15)) (2024.2.2)\n",
      "Requirement already satisfied: httpcore==1.* in /opt/intel/oneapi/intelpython/lib/python3.9/site-packages (from httpx>=0.20.0->httpx[http2]>=0.20.0->qdrant-client==1.9.0->-r requirements.txt (line 15)) (1.0.4)\n",
      "Requirement already satisfied: idna in /opt/intel/oneapi/intelpython/lib/python3.9/site-packages (from httpx>=0.20.0->httpx[http2]>=0.20.0->qdrant-client==1.9.0->-r requirements.txt (line 15)) (3.6)\n",
      "Requirement already satisfied: sniffio in /opt/intel/oneapi/intelpython/lib/python3.9/site-packages (from httpx>=0.20.0->httpx[http2]>=0.20.0->qdrant-client==1.9.0->-r requirements.txt (line 15)) (1.3.1)\n",
      "Requirement already satisfied: h11<0.15,>=0.13 in /opt/intel/oneapi/intelpython/lib/python3.9/site-packages (from httpcore==1.*->httpx>=0.20.0->httpx[http2]>=0.20.0->qdrant-client==1.9.0->-r requirements.txt (line 15)) (0.14.0)\n",
      "Requirement already satisfied: h2<5,>=3 in /opt/intel/oneapi/intelpython/lib/python3.9/site-packages (from httpx[http2]>=0.20.0->qdrant-client==1.9.0->-r requirements.txt (line 15)) (4.1.0)\n",
      "Requirement already satisfied: zipp>=0.5 in /opt/intel/oneapi/intelpython/lib/python3.9/site-packages (from importlib-metadata>=4.4->markdown->-r requirements.txt (line 10)) (3.17.0)\n",
      "Requirement already satisfied: MarkupSafe>=2.0 in /opt/intel/oneapi/intelpython/lib/python3.9/site-packages (from jinja2->torch==2.3.0->-r requirements.txt (line 19)) (2.1.4)\n",
      "Requirement already satisfied: jsonpointer>=1.9 in /opt/intel/oneapi/intelpython/lib/python3.9/site-packages (from jsonpatch<2.0,>=1.33->langchain==0.1.11->-r requirements.txt (line 6)) (2.4)\n",
      "Requirement already satisfied: six>=1.9.0 in /opt/intel/oneapi/intelpython/lib/python3.9/site-packages (from kubernetes>=28.1.0->chromadb==0.4.15->-r requirements.txt (line 2)) (1.16.0)\n",
      "Requirement already satisfied: python-dateutil>=2.5.3 in /opt/intel/oneapi/intelpython/lib/python3.9/site-packages (from kubernetes>=28.1.0->chromadb==0.4.15->-r requirements.txt (line 2)) (2.8.2)\n",
      "Requirement already satisfied: google-auth>=1.0.1 in ./.local/lib/python3.9/site-packages (from kubernetes>=28.1.0->chromadb==0.4.15->-r requirements.txt (line 2)) (2.32.0)\n",
      "Requirement already satisfied: websocket-client!=0.40.0,!=0.41.*,!=0.42.*,>=0.32.0 in /opt/intel/oneapi/intelpython/lib/python3.9/site-packages (from kubernetes>=28.1.0->chromadb==0.4.15->-r requirements.txt (line 2)) (1.7.0)\n",
      "Requirement already satisfied: requests-oauthlib in ./.local/lib/python3.9/site-packages (from kubernetes>=28.1.0->chromadb==0.4.15->-r requirements.txt (line 2)) (2.0.0)\n",
      "Requirement already satisfied: oauthlib>=3.2.2 in ./.local/lib/python3.9/site-packages (from kubernetes>=28.1.0->chromadb==0.4.15->-r requirements.txt (line 2)) (3.2.2)\n",
      "Requirement already satisfied: coloredlogs in ./.local/lib/python3.9/site-packages (from onnxruntime>=1.14.1->chromadb==0.4.15->-r requirements.txt (line 2)) (15.0.1)\n",
      "Requirement already satisfied: flatbuffers in ./.local/lib/python3.9/site-packages (from onnxruntime>=1.14.1->chromadb==0.4.15->-r requirements.txt (line 2)) (24.3.25)\n",
      "Requirement already satisfied: deprecated>=1.2.6 in ./.local/lib/python3.9/site-packages (from opentelemetry-api>=1.2.0->chromadb==0.4.15->-r requirements.txt (line 2)) (1.2.14)\n",
      "Requirement already satisfied: googleapis-common-protos~=1.52 in ./.local/lib/python3.9/site-packages (from opentelemetry-exporter-otlp-proto-grpc>=1.2.0->chromadb==0.4.15->-r requirements.txt (line 2)) (1.56.4)\n",
      "Requirement already satisfied: opentelemetry-exporter-otlp-proto-common==1.25.0 in ./.local/lib/python3.9/site-packages (from opentelemetry-exporter-otlp-proto-grpc>=1.2.0->chromadb==0.4.15->-r requirements.txt (line 2)) (1.25.0)\n",
      "Requirement already satisfied: opentelemetry-proto==1.25.0 in ./.local/lib/python3.9/site-packages (from opentelemetry-exporter-otlp-proto-grpc>=1.2.0->chromadb==0.4.15->-r requirements.txt (line 2)) (1.25.0)\n",
      "Requirement already satisfied: opentelemetry-semantic-conventions==0.46b0 in ./.local/lib/python3.9/site-packages (from opentelemetry-sdk>=1.2.0->chromadb==0.4.15->-r requirements.txt (line 2)) (0.46b0)\n",
      "Requirement already satisfied: monotonic>=1.5 in ./.local/lib/python3.9/site-packages (from posthog>=2.4.0->chromadb==0.4.15->-r requirements.txt (line 2)) (1.6)\n",
      "Requirement already satisfied: XlsxWriter>=0.5.7 in ./.local/lib/python3.9/site-packages (from python-pptx<=0.6.23->unstructured[all-docs]->-r requirements.txt (line 21)) (3.2.0)\n",
      "Requirement already satisfied: charset-normalizer<4,>=2 in /opt/intel/oneapi/intelpython/lib/python3.9/site-packages (from requests>=2.28->chromadb==0.4.15->-r requirements.txt (line 2)) (3.3.2)\n",
      "Requirement already satisfied: greenlet!=0.4.17 in ./.local/lib/python3.9/site-packages (from SQLAlchemy<3,>=1.4->langchain==0.1.11->-r requirements.txt (line 6)) (3.0.3)\n",
      "Requirement already satisfied: regex!=2019.12.17 in ./.local/lib/python3.9/site-packages (from transformers<5.0.0,>=4.32.0->sentence-transformers==2.3.1->-r requirements.txt (line 18)) (2024.5.15)\n",
      "Requirement already satisfied: click>=8.0.0 in ./.local/lib/python3.9/site-packages (from typer>=0.9.0->chromadb==0.4.15->-r requirements.txt (line 2)) (8.1.7)\n",
      "Requirement already satisfied: shellingham>=1.3.0 in ./.local/lib/python3.9/site-packages (from typer>=0.9.0->chromadb==0.4.15->-r requirements.txt (line 2)) (1.5.4)\n",
      "Requirement already satisfied: rich>=10.11.0 in ./.local/lib/python3.9/site-packages (from typer>=0.9.0->chromadb==0.4.15->-r requirements.txt (line 2)) (13.7.1)\n",
      "Requirement already satisfied: httptools>=0.5.0 in ./.local/lib/python3.9/site-packages (from uvicorn[standard]>=0.18.3->chromadb==0.4.15->-r requirements.txt (line 2)) (0.6.1)\n",
      "Requirement already satisfied: python-dotenv>=0.13 in ./.local/lib/python3.9/site-packages (from uvicorn[standard]>=0.18.3->chromadb==0.4.15->-r requirements.txt (line 2)) (1.0.1)\n",
      "Requirement already satisfied: uvloop!=0.15.0,!=0.15.1,>=0.14.0 in ./.local/lib/python3.9/site-packages (from uvicorn[standard]>=0.18.3->chromadb==0.4.15->-r requirements.txt (line 2)) (0.19.0)\n",
      "Requirement already satisfied: watchfiles>=0.13 in ./.local/lib/python3.9/site-packages (from uvicorn[standard]>=0.18.3->chromadb==0.4.15->-r requirements.txt (line 2)) (0.22.0)\n",
      "Requirement already satisfied: websockets>=10.4 in ./.local/lib/python3.9/site-packages (from uvicorn[standard]>=0.18.3->chromadb==0.4.15->-r requirements.txt (line 2)) (12.0)\n",
      "Requirement already satisfied: pyarrow>=15.0.0 in ./.local/lib/python3.9/site-packages (from datasets->FlagEmbedding->-r requirements.txt (line 4)) (16.1.0)\n",
      "Requirement already satisfied: pyarrow-hotfix in ./.local/lib/python3.9/site-packages (from datasets->FlagEmbedding->-r requirements.txt (line 4)) (0.6)\n",
      "Requirement already satisfied: dill<0.3.9,>=0.3.0 in ./.local/lib/python3.9/site-packages (from datasets->FlagEmbedding->-r requirements.txt (line 4)) (0.3.8)\n",
      "Requirement already satisfied: xxhash in ./.local/lib/python3.9/site-packages (from datasets->FlagEmbedding->-r requirements.txt (line 4)) (3.4.1)\n",
      "Requirement already satisfied: multiprocess in ./.local/lib/python3.9/site-packages (from datasets->FlagEmbedding->-r requirements.txt (line 4)) (0.70.16)\n",
      "Requirement already satisfied: pycocotools>=2.0.2 in ./.local/lib/python3.9/site-packages (from effdet->unstructured[all-docs]->-r requirements.txt (line 21)) (2.0.8)\n",
      "Requirement already satisfied: omegaconf>=2.0 in ./.local/lib/python3.9/site-packages (from effdet->unstructured[all-docs]->-r requirements.txt (line 21)) (2.3.0)\n",
      "Requirement already satisfied: google-api-core!=2.0.*,!=2.1.*,!=2.2.*,!=2.3.*,!=2.4.*,!=2.5.*,!=2.6.*,!=2.7.*,<3.0.0dev,>=1.32.0 in ./.local/lib/python3.9/site-packages (from google-api-core[grpc]!=2.0.*,!=2.1.*,!=2.2.*,!=2.3.*,!=2.4.*,!=2.5.*,!=2.6.*,!=2.7.*,<3.0.0dev,>=1.32.0->google-cloud-vision->unstructured[all-docs]->-r requirements.txt (line 21)) (2.8.2)\n",
      "Requirement already satisfied: proto-plus<2.0.0dev,>=1.22.0 in ./.local/lib/python3.9/site-packages (from google-cloud-vision->unstructured[all-docs]->-r requirements.txt (line 21)) (1.24.0)\n",
      "INFO: pip is looking at multiple versions of onnx to determine which version is compatible with other requirements. This could take a while.\n",
      "Collecting onnx (from unstructured[all-docs]->-r requirements.txt (line 21))\n",
      "  Using cached onnx-1.16.0-cp39-cp39-manylinux_2_17_x86_64.manylinux2014_x86_64.whl.metadata (16 kB)\n",
      "  Using cached onnx-1.15.0-cp39-cp39-manylinux_2_17_x86_64.manylinux2014_x86_64.whl.metadata (15 kB)\n",
      "  Using cached onnx-1.14.1-cp39-cp39-manylinux_2_17_x86_64.manylinux2014_x86_64.whl.metadata (15 kB)\n",
      "  Using cached onnx-1.14.0-cp39-cp39-manylinux_2_17_x86_64.manylinux2014_x86_64.whl.metadata (15 kB)\n",
      "  Using cached onnx-1.13.1-cp39-cp39-manylinux_2_17_x86_64.manylinux2014_x86_64.whl.metadata (14 kB)\n",
      "  Using cached onnx-1.13.0-cp39-cp39-manylinux_2_17_x86_64.manylinux2014_x86_64.whl.metadata (14 kB)\n",
      "  Using cached onnx-1.12.0-cp39-cp39-manylinux_2_17_x86_64.manylinux2014_x86_64.whl.metadata (13 kB)\n",
      "Requirement already satisfied: pytz>=2020.1 in /opt/intel/oneapi/intelpython/lib/python3.9/site-packages (from pandas->unstructured[all-docs]->-r requirements.txt (line 21)) (2024.1)\n",
      "Requirement already satisfied: tzdata>=2022.7 in /opt/intel/oneapi/intelpython/lib/python3.9/site-packages (from pandas->unstructured[all-docs]->-r requirements.txt (line 21)) (2023.4)\n",
      "Requirement already satisfied: cryptography>=36.0.0 in /opt/intel/oneapi/intelpython/lib/python3.9/site-packages (from pdfminer.six->unstructured[all-docs]->-r requirements.txt (line 21)) (41.0.4)\n",
      "Requirement already satisfied: olefile in ./.local/lib/python3.9/site-packages (from python-oxmsg->unstructured[all-docs]->-r requirements.txt (line 21)) (0.47)\n",
      "Requirement already satisfied: imageio>=2.33 in ./.local/lib/python3.9/site-packages (from scikit-image->easyocr->-r requirements.txt (line 3)) (2.34.2)\n",
      "Requirement already satisfied: tifffile>=2022.8.12 in ./.local/lib/python3.9/site-packages (from scikit-image->easyocr->-r requirements.txt (line 3)) (2024.7.2)\n",
      "Requirement already satisfied: lazy-loader>=0.4 in ./.local/lib/python3.9/site-packages (from scikit-image->easyocr->-r requirements.txt (line 3)) (0.4)\n",
      "Requirement already satisfied: mpmath<1.4,>=1.1.0 in ./.local/lib/python3.9/site-packages (from sympy->torch==2.3.0->-r requirements.txt (line 19)) (1.3.0)\n",
      "Requirement already satisfied: deepdiff>=6.0 in ./.local/lib/python3.9/site-packages (from unstructured-client->unstructured[all-docs]->-r requirements.txt (line 21)) (7.0.1)\n",
      "Requirement already satisfied: jsonpath-python>=1.0.6 in ./.local/lib/python3.9/site-packages (from unstructured-client->unstructured[all-docs]->-r requirements.txt (line 21)) (1.0.6)\n",
      "Requirement already satisfied: mypy-extensions>=1.0.0 in ./.local/lib/python3.9/site-packages (from unstructured-client->unstructured[all-docs]->-r requirements.txt (line 21)) (1.0.0)\n",
      "Requirement already satisfied: nest-asyncio>=1.6.0 in /opt/intel/oneapi/intelpython/lib/python3.9/site-packages (from unstructured-client->unstructured[all-docs]->-r requirements.txt (line 21)) (1.6.0)\n",
      "Requirement already satisfied: requests-toolbelt>=1.0.0 in ./.local/lib/python3.9/site-packages (from unstructured-client->unstructured[all-docs]->-r requirements.txt (line 21)) (1.0.0)\n",
      "Requirement already satisfied: cffi>=1.12 in /opt/intel/oneapi/intelpython/lib/python3.9/site-packages (from cryptography>=36.0.0->pdfminer.six->unstructured[all-docs]->-r requirements.txt (line 21)) (1.16.0)\n",
      "Requirement already satisfied: ordered-set<4.2.0,>=4.1.0 in ./.local/lib/python3.9/site-packages (from deepdiff>=6.0->unstructured-client->unstructured[all-docs]->-r requirements.txt (line 21)) (4.1.0)\n",
      "Requirement already satisfied: dnspython>=2.0.0 in ./.local/lib/python3.9/site-packages (from email_validator>=2.0.0->fastapi>=0.95.2->chromadb==0.4.15->-r requirements.txt (line 2)) (2.6.1)\n",
      "Requirement already satisfied: grpcio-status<2.0dev,>=1.33.2 in ./.local/lib/python3.9/site-packages (from google-api-core[grpc]!=2.0.*,!=2.1.*,!=2.2.*,!=2.3.*,!=2.4.*,!=2.5.*,!=2.6.*,!=2.7.*,<3.0.0dev,>=1.32.0->google-cloud-vision->unstructured[all-docs]->-r requirements.txt (line 21)) (1.48.2)\n",
      "Requirement already satisfied: cachetools<6.0,>=2.0.0 in ./.local/lib/python3.9/site-packages (from google-auth>=1.0.1->kubernetes>=28.1.0->chromadb==0.4.15->-r requirements.txt (line 2)) (5.3.3)\n",
      "Requirement already satisfied: pyasn1-modules>=0.2.1 in ./.local/lib/python3.9/site-packages (from google-auth>=1.0.1->kubernetes>=28.1.0->chromadb==0.4.15->-r requirements.txt (line 2)) (0.4.0)\n",
      "Requirement already satisfied: rsa<5,>=3.1.4 in ./.local/lib/python3.9/site-packages (from google-auth>=1.0.1->kubernetes>=28.1.0->chromadb==0.4.15->-r requirements.txt (line 2)) (4.9)\n",
      "Requirement already satisfied: hyperframe<7,>=6.0 in /opt/intel/oneapi/intelpython/lib/python3.9/site-packages (from h2<5,>=3->httpx[http2]>=0.20.0->qdrant-client==1.9.0->-r requirements.txt (line 15)) (6.0.1)\n",
      "Requirement already satisfied: hpack<5,>=4.0 in /opt/intel/oneapi/intelpython/lib/python3.9/site-packages (from h2<5,>=3->httpx[http2]>=0.20.0->qdrant-client==1.9.0->-r requirements.txt (line 15)) (4.0.0)\n",
      "Requirement already satisfied: antlr4-python3-runtime==4.9.* in ./.local/lib/python3.9/site-packages (from omegaconf>=2.0->effdet->unstructured[all-docs]->-r requirements.txt (line 21)) (4.9.3)\n",
      "Requirement already satisfied: contourpy>=1.0.1 in /opt/intel/oneapi/intelpython/lib/python3.9/site-packages (from matplotlib->unstructured-inference==0.7.36->unstructured[all-docs]->-r requirements.txt (line 21)) (1.2.0)\n",
      "Requirement already satisfied: cycler>=0.10 in /opt/intel/oneapi/intelpython/lib/python3.9/site-packages (from matplotlib->unstructured-inference==0.7.36->unstructured[all-docs]->-r requirements.txt (line 21)) (0.12.1)\n",
      "Requirement already satisfied: fonttools>=4.22.0 in /opt/intel/oneapi/intelpython/lib/python3.9/site-packages (from matplotlib->unstructured-inference==0.7.36->unstructured[all-docs]->-r requirements.txt (line 21)) (4.47.2)\n",
      "Requirement already satisfied: kiwisolver>=1.3.1 in /opt/intel/oneapi/intelpython/lib/python3.9/site-packages (from matplotlib->unstructured-inference==0.7.36->unstructured[all-docs]->-r requirements.txt (line 21)) (1.4.5)\n",
      "Requirement already satisfied: pyparsing>=2.3.1 in /opt/intel/oneapi/intelpython/lib/python3.9/site-packages (from matplotlib->unstructured-inference==0.7.36->unstructured[all-docs]->-r requirements.txt (line 21)) (3.1.1)\n",
      "Requirement already satisfied: markdown-it-py>=2.2.0 in ./.local/lib/python3.9/site-packages (from rich>=10.11.0->typer>=0.9.0->chromadb==0.4.15->-r requirements.txt (line 2)) (3.0.0)\n",
      "Requirement already satisfied: pygments<3.0.0,>=2.13.0 in /opt/intel/oneapi/intelpython/lib/python3.9/site-packages (from rich>=10.11.0->typer>=0.9.0->chromadb==0.4.15->-r requirements.txt (line 2)) (2.17.2)\n",
      "Requirement already satisfied: exceptiongroup>=1.0.2 in /opt/intel/oneapi/intelpython/lib/python3.9/site-packages (from anyio->httpx>=0.20.0->httpx[http2]>=0.20.0->qdrant-client==1.9.0->-r requirements.txt (line 15)) (1.2.0)\n",
      "Requirement already satisfied: humanfriendly>=9.1 in ./.local/lib/python3.9/site-packages (from coloredlogs->onnxruntime>=1.14.1->chromadb==0.4.15->-r requirements.txt (line 2)) (10.0)\n",
      "Requirement already satisfied: iopath in ./.local/lib/python3.9/site-packages (from layoutparser->unstructured-inference==0.7.36->unstructured[all-docs]->-r requirements.txt (line 21)) (0.1.10)\n",
      "Requirement already satisfied: pdfplumber in ./.local/lib/python3.9/site-packages (from layoutparser->unstructured-inference==0.7.36->unstructured[all-docs]->-r requirements.txt (line 21)) (0.11.2)\n",
      "Requirement already satisfied: pycparser in /opt/intel/oneapi/intelpython/lib/python3.9/site-packages (from cffi>=1.12->cryptography>=36.0.0->pdfminer.six->unstructured[all-docs]->-r requirements.txt (line 21)) (2.21)\n",
      "Requirement already satisfied: mdurl~=0.1 in ./.local/lib/python3.9/site-packages (from markdown-it-py>=2.2.0->rich>=10.11.0->typer>=0.9.0->chromadb==0.4.15->-r requirements.txt (line 2)) (0.1.2)\n",
      "Requirement already satisfied: pyasn1<0.7.0,>=0.4.6 in ./.local/lib/python3.9/site-packages (from pyasn1-modules>=0.2.1->google-auth>=1.0.1->kubernetes>=28.1.0->chromadb==0.4.15->-r requirements.txt (line 2)) (0.6.0)\n",
      "Requirement already satisfied: pypdfium2>=4.18.0 in ./.local/lib/python3.9/site-packages (from pdfplumber->layoutparser->unstructured-inference==0.7.36->unstructured[all-docs]->-r requirements.txt (line 21)) (4.30.0)\n",
      "Using cached protobuf-3.20.0-cp39-cp39-manylinux_2_5_x86_64.manylinux1_x86_64.whl (1.0 MB)\n",
      "Using cached onnx-1.12.0-cp39-cp39-manylinux_2_17_x86_64.manylinux2014_x86_64.whl (13.1 MB)\n",
      "Installing collected packages: protobuf, onnx\n",
      "  Attempting uninstall: protobuf\n",
      "    Found existing installation: protobuf 4.25.3\n",
      "    Uninstalling protobuf-4.25.3:\n",
      "      Successfully uninstalled protobuf-4.25.3\n",
      "  Attempting uninstall: onnx\n",
      "    Found existing installation: onnx 1.16.1\n",
      "    Uninstalling onnx-1.16.1:\n",
      "      Successfully uninstalled onnx-1.16.1\n",
      "\u001b[33m  WARNING: The scripts backend-test-tools, check-model and check-node are installed in '/home/ueb85a29a9d9eddd1758cc2b8dbb4c61/.local/bin' which is not on PATH.\n",
      "  Consider adding this directory to PATH or, if you prefer to suppress this warning, use --no-warn-script-location.\u001b[0m\u001b[33m\n",
      "\u001b[0m\u001b[31mERROR: pip's dependency resolver does not currently take into account all the packages that are installed. This behaviour is the source of the following dependency conflicts.\n",
      "tensorflow 2.16.2 requires protobuf!=4.21.0,!=4.21.1,!=4.21.2,!=4.21.3,!=4.21.4,!=4.21.5,<5.0.0dev,>=3.20.3, but you have protobuf 3.20.0 which is incompatible.\u001b[0m\u001b[31m\n",
      "\u001b[0mSuccessfully installed onnx-1.12.0 protobuf-3.20.0\n"
     ]
    }
   ],
   "source": [
    "!pip install -r requirements.txt"
   ]
  },
  {
   "cell_type": "code",
   "execution_count": 3,
   "id": "9a1fa3fe-3944-4bd4-b6d5-c6f0d52c682a",
   "metadata": {},
   "outputs": [
    {
     "name": "stderr",
     "output_type": "stream",
     "text": [
      "/home/ueb85a29a9d9eddd1758cc2b8dbb4c61/.local/lib/python3.9/site-packages/transformers/deepspeed.py:24: FutureWarning: transformers.deepspeed module is deprecated and will be removed in a future version. Please import deepspeed modules directly from transformers.integrations\n",
      "  warnings.warn(\n"
     ]
    },
    {
     "name": "stdout",
     "output_type": "stream",
     "text": [
      "create retrieval plugin instance...\n",
      "plugin parameters:  {'input_path': './docs/'}\n"
     ]
    },
    {
     "data": {
      "application/vnd.jupyter.widget-view+json": {
       "model_id": "3d5e9a65216c479a8db5831b844e344e",
       "version_major": 2,
       "version_minor": 0
      },
      "text/plain": [
       "modules.json:   0%|          | 0.00/349 [00:00<?, ?B/s]"
      ]
     },
     "metadata": {},
     "output_type": "display_data"
    },
    {
     "data": {
      "application/vnd.jupyter.widget-view+json": {
       "model_id": "957e5a56637f40d9b80e918a6884c550",
       "version_major": 2,
       "version_minor": 0
      },
      "text/plain": [
       "config_sentence_transformers.json:   0%|          | 0.00/124 [00:00<?, ?B/s]"
      ]
     },
     "metadata": {},
     "output_type": "display_data"
    },
    {
     "data": {
      "application/vnd.jupyter.widget-view+json": {
       "model_id": "94518b08caf7455cb49df183569f0fc8",
       "version_major": 2,
       "version_minor": 0
      },
      "text/plain": [
       "README.md:   0%|          | 0.00/94.6k [00:00<?, ?B/s]"
      ]
     },
     "metadata": {},
     "output_type": "display_data"
    },
    {
     "data": {
      "application/vnd.jupyter.widget-view+json": {
       "model_id": "a9c2b91f1fbf4d11b9e3fd0fa601e6b0",
       "version_major": 2,
       "version_minor": 0
      },
      "text/plain": [
       "sentence_bert_config.json:   0%|          | 0.00/52.0 [00:00<?, ?B/s]"
      ]
     },
     "metadata": {},
     "output_type": "display_data"
    },
    {
     "data": {
      "application/vnd.jupyter.widget-view+json": {
       "model_id": "fe642a2097044d5daa95ada8910e7b91",
       "version_major": 2,
       "version_minor": 0
      },
      "text/plain": [
       "config.json:   0%|          | 0.00/777 [00:00<?, ?B/s]"
      ]
     },
     "metadata": {},
     "output_type": "display_data"
    },
    {
     "name": "stderr",
     "output_type": "stream",
     "text": [
      "/home/ueb85a29a9d9eddd1758cc2b8dbb4c61/.local/lib/python3.9/site-packages/huggingface_hub/file_download.py:1132: FutureWarning: `resume_download` is deprecated and will be removed in version 1.0.0. Downloads always resume when possible. If you want to force a new download, use `force_download=True`.\n",
      "  warnings.warn(\n"
     ]
    },
    {
     "data": {
      "application/vnd.jupyter.widget-view+json": {
       "model_id": "7bbae623af1c4be39fa8e4717db41fd0",
       "version_major": 2,
       "version_minor": 0
      },
      "text/plain": [
       "model.safetensors:   0%|          | 0.00/438M [00:00<?, ?B/s]"
      ]
     },
     "metadata": {},
     "output_type": "display_data"
    },
    {
     "data": {
      "application/vnd.jupyter.widget-view+json": {
       "model_id": "c31079589b7d4724bf66a921a4a5e396",
       "version_major": 2,
       "version_minor": 0
      },
      "text/plain": [
       "tokenizer_config.json:   0%|          | 0.00/366 [00:00<?, ?B/s]"
      ]
     },
     "metadata": {},
     "output_type": "display_data"
    },
    {
     "data": {
      "application/vnd.jupyter.widget-view+json": {
       "model_id": "1330b3c1d19c413db8e51e4f188daa25",
       "version_major": 2,
       "version_minor": 0
      },
      "text/plain": [
       "vocab.txt:   0%|          | 0.00/232k [00:00<?, ?B/s]"
      ]
     },
     "metadata": {},
     "output_type": "display_data"
    },
    {
     "data": {
      "application/vnd.jupyter.widget-view+json": {
       "model_id": "37084de58b174683bc93102bedaa8ea2",
       "version_major": 2,
       "version_minor": 0
      },
      "text/plain": [
       "tokenizer.json:   0%|          | 0.00/711k [00:00<?, ?B/s]"
      ]
     },
     "metadata": {},
     "output_type": "display_data"
    },
    {
     "data": {
      "application/vnd.jupyter.widget-view+json": {
       "model_id": "94d874e9e30040ff81e8fb509edb6830",
       "version_major": 2,
       "version_minor": 0
      },
      "text/plain": [
       "special_tokens_map.json:   0%|          | 0.00/125 [00:00<?, ?B/s]"
      ]
     },
     "metadata": {},
     "output_type": "display_data"
    },
    {
     "data": {
      "application/vnd.jupyter.widget-view+json": {
       "model_id": "ea94ac9336de432f8c246c6ec976fdbe",
       "version_major": 2,
       "version_minor": 0
      },
      "text/plain": [
       "1_Pooling/config.json:   0%|          | 0.00/190 [00:00<?, ?B/s]"
      ]
     },
     "metadata": {},
     "output_type": "display_data"
    },
    {
     "name": "stdout",
     "output_type": "stream",
     "text": [
      "Loading model Intel/neural-chat-7b-v3-1\n"
     ]
    },
    {
     "data": {
      "application/vnd.jupyter.widget-view+json": {
       "model_id": "ca03e80b2c5b426885382d18505c5369",
       "version_major": 2,
       "version_minor": 0
      },
      "text/plain": [
       "Loading checkpoint shards:   0%|          | 0/2 [00:00<?, ?it/s]"
      ]
     },
     "metadata": {},
     "output_type": "display_data"
    },
    {
     "name": "stdout",
     "output_type": "stream",
     "text": [
      "56 CPU Cores\n"
     ]
    }
   ],
   "source": [
    "from intel_extension_for_transformers.neural_chat import PipelineConfig\n",
    "from intel_extension_for_transformers.neural_chat import build_chatbot\n",
    "from intel_extension_for_transformers.neural_chat import plugins\n",
    "plugins.retrieval.enable=True\n",
    "plugins.retrieval.args[\"input_path\"]=\"./docs/\"\n",
    "config = PipelineConfig(plugins=plugins)\n",
    "chatbot = build_chatbot(config)\n",
    "response = chatbot.predict(\"How many cores does the Intel® Xeon® Platinum 8480+ Processor have in total?\")\n",
    "print(response)"
   ]
  },
  {
   "cell_type": "code",
   "execution_count": 4,
   "id": "9a02fe87-7e16-457b-9d64-328c0b0a7d10",
   "metadata": {},
   "outputs": [
    {
     "name": "stdout",
     "output_type": "stream",
     "text": [
      "The Intel Xeon Platinum 8480+ Processor features 56 CPU cores, making it suitable for high-performance computing tasks. However, its performance may vary depending on specific workloads and applications.\n"
     ]
    }
   ],
   "source": [
    "response = chatbot.predict(\"How good is the Intel Xeon Platinum Processor?\")\n",
    "print(response)"
   ]
  }
 ],
 "metadata": {
  "kernelspec": {
   "display_name": "Base",
   "language": "python",
   "name": "base"
  },
  "language_info": {
   "codemirror_mode": {
    "name": "ipython",
    "version": 3
   },
   "file_extension": ".py",
   "mimetype": "text/x-python",
   "name": "python",
   "nbconvert_exporter": "python",
   "pygments_lexer": "ipython3",
   "version": "3.9.18"
  }
 },
 "nbformat": 4,
 "nbformat_minor": 5
}
